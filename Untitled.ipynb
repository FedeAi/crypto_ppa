{
 "cells": [
  {
   "cell_type": "markdown",
   "metadata": {
    "toc": true
   },
   "source": [
    "<h1>Table of Contents<span class=\"tocSkip\"></span></h1>\n",
    "<div class=\"toc\"><ul class=\"toc-item\"></ul></div>"
   ]
  },
  {
   "cell_type": "code",
   "execution_count": 5,
   "metadata": {},
   "outputs": [],
   "source": [
    "from os import system, name\n",
    "import sys\n",
    "import socketio\n",
    "import time\n",
    "import config"
   ]
  },
  {
   "cell_type": "code",
   "execution_count": null,
   "metadata": {},
   "outputs": [],
   "source": []
  },
  {
   "cell_type": "markdown",
   "metadata": {},
   "source": [
    "# example program flow:\n",
    "- start()\n",
    "    - checks for token in arg_call\n",
    "    - sio.connect(url+token, namspaces=['/feed'])\n",
    "        - "
   ]
  },
  {
   "cell_type": "code",
   "execution_count": null,
   "metadata": {},
   "outputs": [],
   "source": []
  },
  {
   "cell_type": "code",
   "execution_count": 13,
   "metadata": {},
   "outputs": [],
   "source": [
    "def check_os_and_clear_screen():\n",
    "    # Windows\n",
    "    if name == 'nt':\n",
    "        system('cls')\n",
    "    # Mac / Linux\n",
    "    elif name == 'posix':\n",
    "        system('clear')\n",
    "\n",
    "# instantiate client socket\n",
    "sio = socketio.Client()\n",
    "# Events reponding to the server messages\n",
    "# status messages handled here\n",
    "# @ sio.on('event_name', namespace='/feed/') # namespace is like... a radio frequency to listen on\n",
    "# def method(data): 'data' is the... response from this specific event?\n",
    "@ sio.on(\"status\", namespace=\"/feed\")\n",
    "def status(data):\n",
    "    print(data['status'])\n",
    "\n",
    "\n",
    "    \n",
    "    \n",
    "# Events responding to user authorization\n",
    "@ sio.on(\"auth\", namespace=\"/feed\")\n",
    "def auth(data):\n",
    "    connected_to_socket = data['auth']\n",
    "    on_connect_check_and_do(connected_to_socket)\n",
    "\n",
    "\n",
    "# Connection event handler\n",
    "@ sio.on('connect', namespace=\"/feed\")\n",
    "def connect():\n",
    "    print(\"I am connected\")\n",
    "\n",
    "\n",
    "# Error handler for feed namespace\n",
    "@ sio.event\n",
    "def connect_error(namespace=\"/feed\"):\n",
    "    print(\"The connection failed!\")\n",
    "    disconnect()\n",
    "\n",
    "\n",
    "# Disconnection handler\n",
    "@ sio.on('disconnect', namespace='/feed')\n",
    "def disconnect(namespace=\"/feed\"):\n",
    "    print(\"I'm disconnected!\")\n",
    "\n",
    "\n",
    "# Listener to receive subscribed data feed\n",
    "# in json format\n",
    "@ sio.on(\"response\", namespace=\"/feed\")\n",
    "def get_json(json):\n",
    "    json_feed = []\n",
    "\n",
    "    # socket writer reponds with None\n",
    "    # then the feed is in OFF state\n",
    "    if json['payload'] == None:\n",
    "        print(\"Feed is not available\")\n",
    "        sys.exit()\n",
    "\n",
    "    # if feed is ON then the payload is dumped\n",
    "    # into the json_feed list\n",
    "    print(json['payload'])\n",
    "    json_feed.append(json['payload'])\n",
    "\n",
    "    # write the list to a file\n",
    "    # client to customize the name of the file\n",
    "    # here it is feed.json\n",
    "    with open('feed.json', 'w') as fh:\n",
    "        fh.write('\\n'.join(json_feed))\n",
    "        \n",
    "# Based on the result of the server authorization\n",
    "# either permit the user to continue / exit\n",
    "def on_connect_check_and_do(connected):\n",
    "    if connected:\n",
    "        print(\"Authorization successful\")\n",
    "        input(\"Press Enter to start\")\n",
    "        menu()\n",
    "        \n",
    "    else:\n",
    "        print('Connection refused. Not Authorized')\n",
    "        print(\"Disconnected!!\")\n",
    "        input(\"Press Enter to exit\")\n",
    "        sys.exit()"
   ]
  },
  {
   "cell_type": "code",
   "execution_count": 4,
   "metadata": {},
   "outputs": [],
   "source": []
  },
  {
   "cell_type": "code",
   "execution_count": 7,
   "metadata": {},
   "outputs": [],
   "source": [
    "my_id = config.my_id # use my id key"
   ]
  },
  {
   "cell_type": "code",
   "execution_count": 8,
   "metadata": {},
   "outputs": [],
   "source": [
    "rooms = [\"most_recent_long_alert:btc:5:STREAM\", # create list of room-strings for request\n",
    "             \"most_recent_short_alert:btc:5:STREAM\",\n",
    "             \"most_recent_long_alert:btc:30:STREAM\",\n",
    "             \"most_recent_short_alert:btc:30:STREAM\",\n",
    "             \"most_recent_long_alert:btc:60:STREAM\",\n",
    "             \"most_recent_short_alert:btc:60:STREAM\"]"
   ]
  },
  {
   "cell_type": "code",
   "execution_count": 16,
   "metadata": {},
   "outputs": [],
   "source": [
    "# sio.disconnect()"
   ]
  },
  {
   "cell_type": "code",
   "execution_count": 14,
   "metadata": {},
   "outputs": [
    {
     "name": "stdout",
     "output_type": "stream",
     "text": [
      "Authorization successful\n",
      "Authorization successful\n",
      "Press Enter to startPress Enter to start"
     ]
    },
    {
     "name": "stderr",
     "output_type": "stream",
     "text": [
      "Exception in thread Thread-24:\n",
      "Traceback (most recent call last):\n",
      "  File \"/Users/mark/opt/anaconda3/lib/python3.7/threading.py\", line 926, in _bootstrap_inner\n",
      "    self.run()\n",
      "  File \"/Users/mark/opt/anaconda3/lib/python3.7/threading.py\", line 870, in run\n",
      "    self._target(*self._args, **self._kwargs)\n",
      "  File \"/Users/mark/opt/anaconda3/lib/python3.7/site-packages/socketio/client.py\", line 616, in _handle_eio_message\n",
      "    self._handle_event(pkt.namespace, pkt.id, pkt.data)\n",
      "  File \"/Users/mark/opt/anaconda3/lib/python3.7/site-packages/socketio/client.py\", line 500, in _handle_event\n",
      "    r = self._trigger_event(data[0], namespace, *data[1:])\n",
      "  File \"/Users/mark/opt/anaconda3/lib/python3.7/site-packages/socketio/client.py\", line 550, in _trigger_event\n",
      "    return self.handlers[namespace][event](*args)\n",
      "  File \"<ipython-input-10-798bb15ad033>\", line 14, in auth\n",
      "    on_connect_check_and_do(connected_to_socket)\n",
      "  File \"<ipython-input-13-6eac9643199c>\", line 76, in on_connect_check_and_do\n",
      "    input(\"Press Enter to start\")\n",
      "EOFError: EOF when reading a line\n",
      "\n",
      "Exception in thread Thread-23:\n",
      "Traceback (most recent call last):\n",
      "  File \"/Users/mark/opt/anaconda3/lib/python3.7/threading.py\", line 926, in _bootstrap_inner\n",
      "    self.run()\n",
      "  File \"/Users/mark/opt/anaconda3/lib/python3.7/threading.py\", line 870, in run\n",
      "    self._target(*self._args, **self._kwargs)\n",
      "  File \"/Users/mark/opt/anaconda3/lib/python3.7/site-packages/socketio/client.py\", line 616, in _handle_eio_message\n",
      "    self._handle_event(pkt.namespace, pkt.id, pkt.data)\n",
      "  File \"/Users/mark/opt/anaconda3/lib/python3.7/site-packages/socketio/client.py\", line 500, in _handle_event\n",
      "    r = self._trigger_event(data[0], namespace, *data[1:])\n",
      "  File \"/Users/mark/opt/anaconda3/lib/python3.7/site-packages/socketio/client.py\", line 550, in _trigger_event\n",
      "    return self.handlers[namespace][event](*args)\n",
      "  File \"<ipython-input-6-cf09d5a01556>\", line 14, in auth\n",
      "    on_connect_check_and_do(connected_to_socket)\n",
      "  File \"<ipython-input-13-6eac9643199c>\", line 76, in on_connect_check_and_do\n",
      "    input(\"Press Enter to start\")\n",
      "EOFError: EOF when reading a line\n",
      "\n"
     ]
    },
    {
     "name": "stdout",
     "output_type": "stream",
     "text": [
      "I am connected\n",
      "Authorization successful\n",
      "Press Enter to start"
     ]
    },
    {
     "name": "stderr",
     "output_type": "stream",
     "text": [
      "Exception in thread Thread-26:\n",
      "Traceback (most recent call last):\n",
      "  File \"/Users/mark/opt/anaconda3/lib/python3.7/threading.py\", line 926, in _bootstrap_inner\n",
      "    self.run()\n",
      "  File \"/Users/mark/opt/anaconda3/lib/python3.7/threading.py\", line 870, in run\n",
      "    self._target(*self._args, **self._kwargs)\n",
      "  File \"/Users/mark/opt/anaconda3/lib/python3.7/site-packages/socketio/client.py\", line 616, in _handle_eio_message\n",
      "    self._handle_event(pkt.namespace, pkt.id, pkt.data)\n",
      "  File \"/Users/mark/opt/anaconda3/lib/python3.7/site-packages/socketio/client.py\", line 500, in _handle_event\n",
      "    r = self._trigger_event(data[0], namespace, *data[1:])\n",
      "  File \"/Users/mark/opt/anaconda3/lib/python3.7/site-packages/socketio/client.py\", line 550, in _trigger_event\n",
      "    return self.handlers[namespace][event](*args)\n",
      "  File \"<ipython-input-13-6eac9643199c>\", line 26, in auth\n",
      "    on_connect_check_and_do(connected_to_socket)\n",
      "  File \"<ipython-input-13-6eac9643199c>\", line 76, in on_connect_check_and_do\n",
      "    input(\"Press Enter to start\")\n",
      "EOFError: EOF when reading a line\n",
      "\n"
     ]
    }
   ],
   "source": [
    "intelletic_url = 'http://162.214.120.16:5000?token='\n",
    "# start connection after emitting\n",
    "sio.connect(intelletic_url + my_id, namespaces=['/feed'])"
   ]
  },
  {
   "cell_type": "code",
   "execution_count": 13,
   "metadata": {},
   "outputs": [
    {
     "name": "stdout",
     "output_type": "stream",
     "text": [
      "waiting for feed to start...\n"
     ]
    }
   ],
   "source": [
    "sio.emit('join,', {'room': rooms[0]}, namespace='/feed')\n",
    "print('waiting for feed to start...')"
   ]
  },
  {
   "cell_type": "code",
   "execution_count": 12,
   "metadata": {},
   "outputs": [],
   "source": [
    "ob"
   ]
  },
  {
   "cell_type": "code",
   "execution_count": 9,
   "metadata": {},
   "outputs": [],
   "source": [
    "intelletic_url = 'http://162.214.120.16:5000?token='\n",
    "# start connection after emitting\n",
    "sio.connect(intelletic_url + my_id, namespaces=['/feed'])\n"
   ]
  },
  {
   "cell_type": "code",
   "execution_count": null,
   "metadata": {},
   "outputs": [],
   "source": []
  },
  {
   "cell_type": "code",
   "execution_count": null,
   "metadata": {},
   "outputs": [],
   "source": [
    "# Joining a room/feed based on the user's choice\n",
    "        sio.emit(\n",
    "            \"join\", {'room': rooms[choice - 1]}, namespace=\"/feed\")\n",
    "        print(\"Please wait for the feed to start:\")"
   ]
  },
  {
   "cell_type": "code",
   "execution_count": null,
   "metadata": {},
   "outputs": [],
   "source": []
  },
  {
   "cell_type": "code",
   "execution_count": null,
   "metadata": {},
   "outputs": [],
   "source": []
  },
  {
   "cell_type": "code",
   "execution_count": null,
   "metadata": {},
   "outputs": [],
   "source": []
  },
  {
   "cell_type": "code",
   "execution_count": null,
   "metadata": {},
   "outputs": [],
   "source": []
  },
  {
   "cell_type": "code",
   "execution_count": null,
   "metadata": {},
   "outputs": [],
   "source": []
  },
  {
   "cell_type": "code",
   "execution_count": null,
   "metadata": {},
   "outputs": [],
   "source": []
  },
  {
   "cell_type": "code",
   "execution_count": null,
   "metadata": {},
   "outputs": [],
   "source": []
  }
 ],
 "metadata": {
  "kernelspec": {
   "display_name": "Python 3",
   "language": "python",
   "name": "python3"
  },
  "language_info": {
   "codemirror_mode": {
    "name": "ipython",
    "version": 3
   },
   "file_extension": ".py",
   "mimetype": "text/x-python",
   "name": "python",
   "nbconvert_exporter": "python",
   "pygments_lexer": "ipython3",
   "version": "3.7.4"
  },
  "toc": {
   "base_numbering": 1,
   "nav_menu": {},
   "number_sections": true,
   "sideBar": false,
   "skip_h1_title": false,
   "title_cell": "Table of Contents",
   "title_sidebar": "Contents",
   "toc_cell": true,
   "toc_position": {
    "height": "709.091px",
    "left": "843.641px",
    "top": "51.6048px",
    "width": "210.909px"
   },
   "toc_section_display": false,
   "toc_window_display": true
  }
 },
 "nbformat": 4,
 "nbformat_minor": 2
}
