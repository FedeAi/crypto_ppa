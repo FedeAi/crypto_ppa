{
 "cells": [
  {
   "cell_type": "markdown",
   "metadata": {
    "toc": true
   },
   "source": [
    "<h1>Table of Contents<span class=\"tocSkip\"></span></h1>\n",
    "<div class=\"toc\"><ul class=\"toc-item\"><li><span><a href=\"#adding-deeper-strategic-elements-to-auto-trading-strategy\" data-toc-modified-id=\"adding-deeper-strategic-elements-to-auto-trading-strategy-1\"><span class=\"toc-item-num\">1&nbsp;&nbsp;</span>adding deeper strategic elements to auto-trading strategy</a></span><ul class=\"toc-item\"><li><span><a href=\"#or,-&quot;nuance&quot;\" data-toc-modified-id=\"or,-&quot;nuance&quot;-1.1\"><span class=\"toc-item-num\">1.1&nbsp;&nbsp;</span>or, \"nuance\"</a></span></li></ul></li><li><span><a href=\"#areas-to-improve\" data-toc-modified-id=\"areas-to-improve-2\"><span class=\"toc-item-num\">2&nbsp;&nbsp;</span>areas to improve</a></span><ul class=\"toc-item\"><li><span><a href=\"#threshold-gradients\" data-toc-modified-id=\"threshold-gradients-2.1\"><span class=\"toc-item-num\">2.1&nbsp;&nbsp;</span>threshold gradients</a></span></li><li><span><a href=\"#rolling-volatility\" data-toc-modified-id=\"rolling-volatility-2.2\"><span class=\"toc-item-num\">2.2&nbsp;&nbsp;</span>rolling volatility</a></span></li><li><span><a href=\"#multiple-active-PPAs\" data-toc-modified-id=\"multiple-active-PPAs-2.3\"><span class=\"toc-item-num\">2.3&nbsp;&nbsp;</span>multiple active PPAs</a></span></li><li><span><a href=\"#drawdown\" data-toc-modified-id=\"drawdown-2.4\"><span class=\"toc-item-num\">2.4&nbsp;&nbsp;</span>drawdown</a></span></li></ul></li></ul></div>"
   ]
  },
  {
   "cell_type": "markdown",
   "metadata": {},
   "source": [
    "# adding deeper strategic elements to auto-trading strategy\n",
    "## or, \"nuance\"\n",
    "The initial test got 9% 90-day returns, but didn't account for real-world pitfalls, such as trade orders not being filled due to excessive demand or exchange fees.\n",
    "\n",
    "CoinbasePro fees are quite small (around 0.5%), and they'll be easy to simulate in the buy/sell methods. Order shortages are more complex - we could add a module that gives every trade an X% chance to \"fail\", or purchase \"late\". Could calculate X based on... what? volatility? since volatility is an indicator of trading volume over time (frequency).\n",
    "\n",
    "I'll spend a deal of time overhauling the core logic, of course. The bot currently works on \"Bet 10% of whole portfolio on every PPA with an initial move & partnered auto-shop single threshold\"."
   ]
  },
  {
   "cell_type": "markdown",
   "metadata": {},
   "source": [
    "# areas to improve"
   ]
  },
  {
   "cell_type": "markdown",
   "metadata": {},
   "source": [
    "## threshold gradients\n",
    "- right now, if we buy from a PPA's trigger and the 75% auto-stop threshold is a \\$40 price increase, the price could rise by \\$39, then dip back down, and the stop will never trigger a sell.\n",
    "    - so we're certainly missing out on some profit.\n",
    "- investigation:\n",
    "    - for each auto-stop object, we could record the max/min price change (towards the 75% threshold). collect all stops at the end of function\n",
    "        - then we compare \"how close did the actual price get to the 75% threshold\"? both in absolute and pct%\n",
    "- this could tell us if we want to do gradient stop-selling\n",
    "- although this sort of goes counter to the whole \"we're betting on the 75% chance\" thing. if the price reaches \\$35 on that specific PPA, do we run an... 80% chance of selling? or do we wait and bet for the 75%?\n",
    "    - this is risk balancing (like everything else), of course, but perhaps there's better areas to optimize for the time being\n",
    "    "
   ]
  },
  {
   "cell_type": "markdown",
   "metadata": {},
   "source": [
    "## rolling volatility\n",
    "- we could keep a rolling track of how volatile the market price is at every 5-minute interval\n",
    "    - based on X rows back in time\n",
    "    - why is __volatility__ good for this analysis?\n",
    "        - if more people are buying/selling, the price is more likely to change (i'm fairly certain that's how this works)\n",
    "        - so if the PPA says \"i think it's gonna change in this direction over _T_ time\"\n",
    "            - volatility gives us more insight into how it might change and when\n",
    "            "
   ]
  },
  {
   "cell_type": "markdown",
   "metadata": {},
   "source": [
    "## multiple active PPAs\n",
    "- if a 15 hour long triggers with 75%= \\$100 & current_price=\\$3500, we buy with 10% current_USD, and set an autostop to sell 10% of current_BTC if price exceeds \\$3600 increase at any point in the next 15 hours\n",
    "    - but what if a 75-minute short triggers 1 hour into this 15-hour period, when current_price=\\$3200, predicting 75%=\\-$30?\n",
    "        - then we'll sell 10% of our BTC for \\$300 lower price, incurring loss\n",
    "        - and set auto-stop to buy with 10% of USD if price hits \\$3260 in the next 75 minutes\n",
    "            - it's a double gamble, but if the second pulls through we recoup the loss from not \"following through with only the first\"\n",
    "            - and since we've made money on the second (and bought/sold 10%) we're still on track to hold/wait for the original 15-hour long to sell at \\$3600"
   ]
  },
  {
   "cell_type": "markdown",
   "metadata": {},
   "source": [
    "## drawdown\n",
    "- extent to which investment is below its highest net value\n",
    "    - peak-to-trough / peak-to-valley DD == amount of loss incurred since previous peak\n",
    "- evaluates how long it usually takes an investment to recover from temp decline in value\n",
    "    - measures \"downside risk\"\n",
    "        - recovery period / 'time under water' = time that investment needs to reach height of previous peak\n",
    "        - shorter recovery periods are ofc better\n",
    "- formula:\n",
    "    - DDt = minimum of 0 or G\n",
    "    - G = (current_portfolio_val - historical_peak) / (historical_peak)\n",
    "- average DD is more informative \n",
    "- but max is even better\n",
    "\n",
    "## maximum drawdown\n",
    "- MDDt = max(DDt)\n",
    "- measures largest percentage loss an investor could have experienced on investment\n",
    "    - MDD measures \"worst case scenario\" of investor who invested at peak and held during the fall, losing loadsamoney\n",
    "- i'm not quire sure what bill means by \"margin = one BTC for each new portfolio launched\"\n",
    "    - oh, i think... perhaps he's referring to the fact that i'm running 90 distinct portfolios concurrently rolling, rather than trading 90 accounts as part of the same portfolio\n",
    "    - that's where the idea of \"margins\" comes into play, with leverage ratios and such\n",
    "    - you can trade with more or less of the 90 accounts in the portfolio based on how much risk you want to take\n",
    "        - ... i think?\n",
    "- bill on capital account size:\n",
    "    - capital account size = (margin required + safety factor * MDD).\n",
    "    - since i didn't bother with MDDs, i can't set capital account size\n",
    "        - if we have single run with 1BTC capital, if accumualated equity position is a loss greater than one BTC during the 90 days, then account is bankrupt mid-life, never generating returns\n",
    "            - MDD must be known\n",
    "            - MDD must be calculated 2 ways\n",
    "                - 1) at trade close to trade close\n",
    "                - 2) at intraday peak to valley (worse-case modeling)\n",
    "        - MDD is complicated in a rolling strategy: there are 90 portfolios simultaneously acting; their drawdowns have to be calculated and combined at each bar to calculate the overall strategy MDD\n",
    "    - bill likes a 2x safety factor on the MDD\n",
    "    \n",
    "    \n",
    " "
   ]
  },
  {
   "cell_type": "code",
   "execution_count": null,
   "metadata": {},
   "outputs": [],
   "source": []
  },
  {
   "cell_type": "code",
   "execution_count": null,
   "metadata": {},
   "outputs": [],
   "source": []
  },
  {
   "cell_type": "code",
   "execution_count": null,
   "metadata": {},
   "outputs": [],
   "source": []
  },
  {
   "cell_type": "code",
   "execution_count": null,
   "metadata": {},
   "outputs": [],
   "source": []
  },
  {
   "cell_type": "code",
   "execution_count": null,
   "metadata": {},
   "outputs": [],
   "source": []
  },
  {
   "cell_type": "code",
   "execution_count": null,
   "metadata": {},
   "outputs": [],
   "source": []
  },
  {
   "cell_type": "code",
   "execution_count": null,
   "metadata": {},
   "outputs": [],
   "source": []
  },
  {
   "cell_type": "code",
   "execution_count": null,
   "metadata": {},
   "outputs": [],
   "source": []
  },
  {
   "cell_type": "code",
   "execution_count": null,
   "metadata": {},
   "outputs": [],
   "source": []
  },
  {
   "cell_type": "code",
   "execution_count": null,
   "metadata": {},
   "outputs": [],
   "source": []
  },
  {
   "cell_type": "code",
   "execution_count": null,
   "metadata": {},
   "outputs": [],
   "source": []
  },
  {
   "cell_type": "code",
   "execution_count": null,
   "metadata": {},
   "outputs": [],
   "source": []
  },
  {
   "cell_type": "code",
   "execution_count": null,
   "metadata": {},
   "outputs": [],
   "source": []
  },
  {
   "cell_type": "code",
   "execution_count": null,
   "metadata": {},
   "outputs": [],
   "source": []
  },
  {
   "cell_type": "code",
   "execution_count": null,
   "metadata": {},
   "outputs": [],
   "source": []
  }
 ],
 "metadata": {
  "kernelspec": {
   "display_name": "Python 3",
   "language": "python",
   "name": "python3"
  },
  "language_info": {
   "codemirror_mode": {
    "name": "ipython",
    "version": 3
   },
   "file_extension": ".py",
   "mimetype": "text/x-python",
   "name": "python",
   "nbconvert_exporter": "python",
   "pygments_lexer": "ipython3",
   "version": "3.7.4"
  },
  "toc": {
   "base_numbering": 1,
   "nav_menu": {},
   "number_sections": true,
   "sideBar": false,
   "skip_h1_title": false,
   "title_cell": "Table of Contents",
   "title_sidebar": "Contents",
   "toc_cell": true,
   "toc_position": {
    "height": "709.091px",
    "left": "1396.36px",
    "top": "53.423px",
    "width": "349.091px"
   },
   "toc_section_display": true,
   "toc_window_display": true
  }
 },
 "nbformat": 4,
 "nbformat_minor": 2
}
