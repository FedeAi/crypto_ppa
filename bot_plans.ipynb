{
 "cells": [
  {
   "cell_type": "markdown",
   "metadata": {
    "toc": true
   },
   "source": [
    "<h1>Table of Contents<span class=\"tocSkip\"></span></h1>\n",
    "<div class=\"toc\"><ul class=\"toc-item\"><li><span><a href=\"#combining-Intelletic's-PPA-with-CryptoAI's-index-coin-bot\" data-toc-modified-id=\"combining-Intelletic's-PPA-with-CryptoAI's-index-coin-bot-1\"><span class=\"toc-item-num\">1&nbsp;&nbsp;</span>combining Intelletic's PPA with CryptoAI's index coin bot</a></span></li><li><span><a href=\"#PPA-auto-trade-bot\" data-toc-modified-id=\"PPA-auto-trade-bot-2\"><span class=\"toc-item-num\">2&nbsp;&nbsp;</span>PPA-auto-trade-bot</a></span><ul class=\"toc-item\"><li><span><a href=\"#bot-logic:\" data-toc-modified-id=\"bot-logic:-2.1\"><span class=\"toc-item-num\">2.1&nbsp;&nbsp;</span>bot logic:</a></span></li></ul></li><li><span><a href=\"#Develop-bot-test-for-backtesting-historical-PPAs\" data-toc-modified-id=\"Develop-bot-test-for-backtesting-historical-PPAs-3\"><span class=\"toc-item-num\">3&nbsp;&nbsp;</span>Develop bot test for backtesting historical PPAs</a></span></li></ul></div>"
   ]
  },
  {
   "cell_type": "markdown",
   "metadata": {},
   "source": [
    "# combining Intelletic's PPA with CryptoAI's index coin bot\n",
    "- CryptoAI built an index fund auto-trade bot for cryptocurrency\n",
    "    - you give it your money, it manages your portfolio like an index fund \n",
    "        - buys top 20 coins on market, allocating share based on what % market share each coin currently holds\n",
    "            - if coins move out/into top 20, it reshuffles by selling and buying all to 'swap'\n",
    "        - if coin_A starts to rise:\n",
    "            - bot thinks: \"coin is being overvalued, better sell before it drops again\"\n",
    "            - makes profit (because sold coin_A at higher brice than bought)\n",
    "        - if coin_a starts to fall:\n",
    "            - bot thinks: \"coin is being undervalued, better buy before it rises again\"\n",
    "            - makes profit (because it bought coin_A at discount, then coin_A rose normalized\n",
    "            - they could also sell the amount of coin_A bought during the dip after it returns, profit that way\n",
    "    - when profit:\n",
    "        - 'spread profit' by buying some of all other 19 coins, based on market% like before\n",
    "    - when not profit:\n",
    "        - oops\n",
    "    - \"Hedging your bets\"\n",
    "        - it profits in the long run by diving funds through top 20 coins\n",
    "        - so each profitable trade means you have more of each coin to take advantage of any spike in the top 20\n",
    "        - no, that's not it. it's about maintaining a distribution in your 20 portfolio based on market size allocation\n",
    "            - have to rebalance so you don't end up holding too much or too little of any\n",
    "- but then:\n",
    "    - you'd only make profit 2 ways:\n",
    "        - successfully selling the spike or buying the dip before re-normalization\n",
    "            - how long would some coins take to \"re-normalize\"?\n",
    "            - what if it buys, then coin keeps crashing for months?\n",
    "        - all coins go up slowly over time\n",
    "            - this sounds more likely\n",
    "- huh. wonder what AI they're using beyond algorithms to set auto-stops based on X"
   ]
  },
  {
   "cell_type": "markdown",
   "metadata": {},
   "source": [
    "# PPA-auto-trade-bot\n",
    "- PPAs are cool. but using PPAs sounds awfully effort intensive\n",
    "- there's plenty of python libraries for backtesting / trading pretend portfolios\n",
    "## bot logic:\n",
    "- you have \\$1000 monies to begin\n",
    "    - bot is hooked up to PPA API, listening for each of the 6 channels\n",
    "    - when PPA comes: \n",
    "        - if long: buy \\$X\n",
    "        - if short: sell \\$X\n",
    "        - set auto-sell (long) or auto-buy (short) based on confidence interval\n",
    "    - pick a confidence interval based on risk tolerance\n",
    "    - 75\\%s are nice, but might be hampered by TX fee\n",
    "        - depends on exchange, of course. maybe try this on binance instead of coinbase.\n",
    "- this should... make a good profit, automatically over time.\n",
    "    - IF:\n",
    "        - PPAs work.\n",
    "        \n",
    "        \n",
    "        \n",
    "- so some backtesting might be a good idea to start.\n",
    "    - develop the logic first? then try it on historical PPAs\n",
    "- developing a bot like this would be actually simple in terms of \"AI\"\n",
    "    - it's just a bunch of if statements. maybe make the confidence / risk parameters easily configurable with program menu\n",
    "- the hard part is just learning enough socketio and whatever libraries are needed to interface with the exchange's portfolio\n",
    "    - but it's been done before, so i can do it without too much trouble\n",
    "- and then some auto-run software manager to have this going in the background\n",
    "    - not a strain on runtime, really.\n"
   ]
  },
  {
   "cell_type": "markdown",
   "metadata": {},
   "source": [
    "# Develop bot test for backtesting historical PPAs\n",
    "...I can do this with pandas and numpy, actually. maybe a backtesting library or two to save me some time.\n",
    "for ppa in ppas: etc"
   ]
  },
  {
   "cell_type": "code",
   "execution_count": null,
   "metadata": {},
   "outputs": [],
   "source": []
  },
  {
   "cell_type": "code",
   "execution_count": null,
   "metadata": {},
   "outputs": [],
   "source": []
  },
  {
   "cell_type": "code",
   "execution_count": null,
   "metadata": {},
   "outputs": [],
   "source": []
  },
  {
   "cell_type": "code",
   "execution_count": null,
   "metadata": {},
   "outputs": [],
   "source": []
  },
  {
   "cell_type": "code",
   "execution_count": null,
   "metadata": {},
   "outputs": [],
   "source": []
  },
  {
   "cell_type": "code",
   "execution_count": null,
   "metadata": {},
   "outputs": [],
   "source": []
  },
  {
   "cell_type": "code",
   "execution_count": null,
   "metadata": {},
   "outputs": [],
   "source": []
  },
  {
   "cell_type": "code",
   "execution_count": null,
   "metadata": {},
   "outputs": [],
   "source": []
  },
  {
   "cell_type": "code",
   "execution_count": null,
   "metadata": {},
   "outputs": [],
   "source": []
  },
  {
   "cell_type": "code",
   "execution_count": null,
   "metadata": {},
   "outputs": [],
   "source": []
  },
  {
   "cell_type": "code",
   "execution_count": null,
   "metadata": {},
   "outputs": [],
   "source": []
  }
 ],
 "metadata": {
  "kernelspec": {
   "display_name": "Python 3",
   "language": "python",
   "name": "python3"
  },
  "language_info": {
   "codemirror_mode": {
    "name": "ipython",
    "version": 3
   },
   "file_extension": ".py",
   "mimetype": "text/x-python",
   "name": "python",
   "nbconvert_exporter": "python",
   "pygments_lexer": "ipython3",
   "version": "3.7.4"
  },
  "toc": {
   "base_numbering": 1,
   "nav_menu": {},
   "number_sections": true,
   "sideBar": false,
   "skip_h1_title": false,
   "title_cell": "Table of Contents",
   "title_sidebar": "Contents",
   "toc_cell": true,
   "toc_position": {
    "height": "47.429px",
    "left": "1005.38px",
    "top": "53.4233px",
    "width": "160.98px"
   },
   "toc_section_display": false,
   "toc_window_display": true
  }
 },
 "nbformat": 4,
 "nbformat_minor": 2
}
