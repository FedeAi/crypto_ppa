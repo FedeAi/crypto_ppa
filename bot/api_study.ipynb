{
 "cells": [
  {
   "cell_type": "markdown",
   "metadata": {
    "toc": true
   },
   "source": [
    "<h1>Table of Contents<span class=\"tocSkip\"></span></h1>\n",
    "<div class=\"toc\"><ul class=\"toc-item\"><li><ul class=\"toc-item\"><li><span><a href=\"#backtesting-was-a-huge-success\" data-toc-modified-id=\"backtesting-was-a-huge-success-0.1\"><span class=\"toc-item-num\">0.1&nbsp;&nbsp;</span>backtesting was a huge success</a></span></li></ul></li><li><span><a href=\"#exchange-APIs\" data-toc-modified-id=\"exchange-APIs-1\"><span class=\"toc-item-num\">1&nbsp;&nbsp;</span>exchange APIs</a></span><ul class=\"toc-item\"><li><ul class=\"toc-item\"><li><span><a href=\"#.gitignore-note:\" data-toc-modified-id=\".gitignore-note:-1.0.1\"><span class=\"toc-item-num\">1.0.1&nbsp;&nbsp;</span>.gitignore note:</a></span></li></ul></li><li><span><a href=\"#oh-right,-a-newly-created-API-key-is-deactivated-for-48-hours-for-security-reasons\" data-toc-modified-id=\"oh-right,-a-newly-created-API-key-is-deactivated-for-48-hours-for-security-reasons-1.1\"><span class=\"toc-item-num\">1.1&nbsp;&nbsp;</span>oh right, a newly created API key is deactivated for 48 hours for security reasons</a></span></li></ul></li><li><span><a href=\"#example-authentication-/-transfer-app\" data-toc-modified-id=\"example-authentication-/-transfer-app-2\"><span class=\"toc-item-num\">2&nbsp;&nbsp;</span>example authentication / transfer app</a></span><ul class=\"toc-item\"><li><span><a href=\"#hmac-error\" data-toc-modified-id=\"hmac-error-2.1\"><span class=\"toc-item-num\">2.1&nbsp;&nbsp;</span>hmac error</a></span></li><li><span><a href=\"#the-examples-on-coinbasepro's-API-docs-keep-crashing\" data-toc-modified-id=\"the-examples-on-coinbasepro's-API-docs-keep-crashing-2.2\"><span class=\"toc-item-num\">2.2&nbsp;&nbsp;</span>the examples on coinbasepro's API docs keep crashing</a></span></li><li><span><a href=\"#let's-use-the-unofficial-wrappers!\" data-toc-modified-id=\"let's-use-the-unofficial-wrappers!-2.3\"><span class=\"toc-item-num\">2.3&nbsp;&nbsp;</span>let's use the unofficial wrappers!</a></span></li></ul></li><li><span><a href=\"#wrapper-worked-a-beaut\" data-toc-modified-id=\"wrapper-worked-a-beaut-3\"><span class=\"toc-item-num\">3&nbsp;&nbsp;</span>wrapper worked a beaut</a></span><ul class=\"toc-item\"><li><span><a href=\"#let's-figure-out-how-deposits-work\" data-toc-modified-id=\"let's-figure-out-how-deposits-work-3.1\"><span class=\"toc-item-num\">3.1&nbsp;&nbsp;</span>let's figure out how deposits work</a></span></li></ul></li></ul></div>"
   ]
  },
  {
   "cell_type": "markdown",
   "metadata": {},
   "source": [
    "## backtesting was a huge success\n",
    "1,300 90-day portfolios over 3 years. average investment \\$16k\n",
    "\n",
    "9% returns in 3 months. sounds too good to be true\n",
    "\n",
    "did i make a laughable calculation error? let's find out by hooking the algo up to an exchange to run with real money"
   ]
  },
  {
   "cell_type": "markdown",
   "metadata": {},
   "source": [
    "# exchange APIs\n",
    "probably binance or coinbase. let's run with coinbase for the moment since i already have an account"
   ]
  },
  {
   "cell_type": "markdown",
   "metadata": {},
   "source": [
    "### .gitignore note:\n",
    "i'm currently working in a subfolder of the main repo directory. however, i can put 'file_to_ignore.txt' in the main .gitignore, and it doesn't push the file even if it's in a subfolder\n",
    "- this is good to know when i'm including an API key to access my personal BTC wallet"
   ]
  },
  {
   "cell_type": "code",
   "execution_count": 1,
   "metadata": {},
   "outputs": [],
   "source": [
    "import secrets # but don't print any key variables to cell output and then push the notebook..."
   ]
  },
  {
   "cell_type": "code",
   "execution_count": 2,
   "metadata": {},
   "outputs": [],
   "source": [
    "import coinbase"
   ]
  },
  {
   "cell_type": "code",
   "execution_count": 17,
   "metadata": {},
   "outputs": [],
   "source": [
    "# coinbase = coinbase.with_api_key(str(secrets.api_key), str(secrets.api_secret_key))\n",
    "# balance = coinbase.get_balance()\n",
    "\n",
    "# print('Balance is ' + balance + ' BTC')"
   ]
  },
  {
   "cell_type": "markdown",
   "metadata": {},
   "source": [
    "## oh right, a newly created API key is deactivated for 48 hours for security reasons\n",
    "makes sense. let's try the coinbasepro docs in the meantime"
   ]
  },
  {
   "cell_type": "code",
   "execution_count": 3,
   "metadata": {},
   "outputs": [],
   "source": [
    "import cbpro\n",
    "public_client = cbpro.PublicClient()"
   ]
  },
  {
   "cell_type": "markdown",
   "metadata": {},
   "source": [
    "https://docs.pro.coinbase.com/#client-libraries\n",
    "\n",
    "Profiles are the equivalent of portfolios on the Coinbase Pro website. API keys are scoped to a specific profile. An API key only has access to creating and viewing data that belongs to its own profile, unless otherwise noted. This is true for the REST API, FIX API and Websocket Feed. In order to access data or actions on a different profile, please create a new API key via the Coinbase Pro website.\n",
    "\n",
    "DELETED PROFILES\n",
    "Profiles can be deleted on the Coinbase Pro website. A deleted profile's API keys' permissions are automatically set to \"View\"."
   ]
  },
  {
   "cell_type": "markdown",
   "metadata": {},
   "source": [
    "The REST API has endpoints for account and order management as well as public market data.\n",
    "\n",
    "REST API ENDPOINT URL\n",
    "https://api.pro.coinbase.com"
   ]
  },
  {
   "cell_type": "markdown",
   "metadata": {},
   "source": [
    "Creating a Request\n",
    "All REST requests must contain the following headers:\n",
    "\n",
    "CB-ACCESS-KEY The api key as a string.\n",
    "CB-ACCESS-SIGN The base64-encoded signature (see Signing a Message).\n",
    "CB-ACCESS-TIMESTAMP A timestamp for your request.\n",
    "CB-ACCESS-PASSPHRASE The passphrase you specified when creating the API key.\n",
    "All request bodies should have content type application/json and be valid JSON.\n",
    "\n"
   ]
  },
  {
   "cell_type": "markdown",
   "metadata": {},
   "source": [
    "# example authentication / transfer app"
   ]
  },
  {
   "cell_type": "markdown",
   "metadata": {},
   "source": [
    " Remember to first base64-decode the alphanumeric secret string (resulting in 64 bytes) before using it as the key for HMAC. Also, base64-encode the digest output before sending in the header."
   ]
  },
  {
   "cell_type": "code",
   "execution_count": 27,
   "metadata": {},
   "outputs": [],
   "source": [
    "hkey = base64.b64decode(secrets.pro_secret_key)"
   ]
  },
  {
   "cell_type": "code",
   "execution_count": 28,
   "metadata": {},
   "outputs": [
    {
     "data": {
      "text/plain": [
       "b'{\\xc7t?\\x1cVN5\\x81{\\xa9\\xee\\xf7tK\\xd5F\\xf1\\xe5\\x84\\xa7R\\xfd\\n\\xeeceJb\\x0f\\xd9\\xd4\\xc7\\xebH\\xda\\xfe\\xcd?\\x9aKR\\x8d\\x87\\x7f\\x8a\\xadB\\x17\\xefd:A\\\\xtK\\xd8\\xcbW/:2]'"
      ]
     },
     "execution_count": 28,
     "metadata": {},
     "output_type": "execute_result"
    }
   ],
   "source": [
    "hkey"
   ]
  },
  {
   "cell_type": "code",
   "execution_count": null,
   "metadata": {},
   "outputs": [],
   "source": []
  },
  {
   "cell_type": "code",
   "execution_count": null,
   "metadata": {},
   "outputs": [],
   "source": [
    "        timestamp = str(time.time())\n",
    "        message = (timestamp + request.method + request.path_url +\n",
    "                   (request.body or ''))\n",
    "        message = message.encode('ascii')\n",
    "        hmac_key = base64.b64decode(self.secret_key)\n",
    "        signature = hmac.new(hmac_key, message, hashlib.sha256)\n",
    "        signature_b64 = base64.b64encode(signature.digest())"
   ]
  },
  {
   "cell_type": "code",
   "execution_count": 60,
   "metadata": {},
   "outputs": [],
   "source": [
    "import json, hmac, hashlib, time, requests, base64\n",
    "from requests.auth import AuthBase\n",
    "\n",
    "class CoinbaseExchangeAuth(AuthBase):\n",
    "    \n",
    "    def __init__(self, api_key, secret_key, passphrase):\n",
    "        self.api_key = api_key\n",
    "        self.secret_key = secret_key\n",
    "        self.passphrase = passphrase\n",
    "        \n",
    "    def __call__(self, request): # return request...?\n",
    "        timestamp = str(time.time())\n",
    "        message = (timestamp + request.method + request.path_url + (request.body or ''))\n",
    "        message = message.encode('ascii')\n",
    "        hmac_key = base64.b64decode(self.secret_key)  # why does this crash?\n",
    "        signature = hmac.new(hmac_key, message, hashlib.sha256)\n",
    "#         signature_b64 = signature.digest().encode('base64').rstrip('\\n')\n",
    "        # AttributeError: 'bytes' object has no attribute 'encode'\n",
    "        signature_b64 = base64.b64encode(signature.digest())\n",
    "        # oh, it's a syntax thing. hilarious\n",
    "\n",
    "        request.headers.update({\n",
    "            'CB-ACCESS-SIGN': signature_b64,\n",
    "            'CB-ACCESS-TIMESTAMP': timestamp,\n",
    "            'CB-ACCESS-KEY': self.api_key,\n",
    "            'CB-ACCESS-PASSPHRASE': self.passphrase,\n",
    "            'Content-Type': 'application/json'})\n",
    "        return request"
   ]
  },
  {
   "cell_type": "code",
   "execution_count": 61,
   "metadata": {},
   "outputs": [
    {
     "data": {
      "text/plain": [
       "requests.models.Response"
      ]
     },
     "execution_count": 61,
     "metadata": {},
     "output_type": "execute_result"
    }
   ],
   "source": [
    "api_url = 'https://api.pro.coinbase.com/'\n",
    "auth = CoinbaseExchangeAuth(secrets.pro_api_key, secrets.pro_secret_key, secrets.passphrase)\n",
    "\n",
    "# Get accounts\n",
    "r = requests.get(api_url + 'accounts', auth=auth)\n",
    "# print r.json()\n",
    "type(r)"
   ]
  },
  {
   "cell_type": "code",
   "execution_count": 62,
   "metadata": {},
   "outputs": [
    {
     "data": {
      "text/plain": [
       "b'[{\"id\":\"87492cf3-986b-4ad0-93d4-01020c99d85a\",\"currency\":\"ALGO\",\"balance\":\"0.0000000000000000\",\"hold\":\"0.0000000000000000\",\"available\":\"0\",\"profile_id\":\"e85c9857-e0f1-4034-985a-e283602d8776\",\"trading_enabled\":true},{\"id\":\"e071d6ff-9245-4513-8a9d-a7737d624833\",\"currency\":\"ATOM\",\"balance\":\"0.0000000000000000\",\"hold\":\"0.0000000000000000\",\"available\":\"0\",\"profile_id\":\"e85c9857-e0f1-4034-985a-e283602d8776\",\"trading_enabled\":true},{\"id\":\"9fb6bc8d-fea0-45d6-bacc-3142a6b52de1\",\"currency\":\"BAND\",\"balance\":\"0.0000000000000000\",\"hold\":\"0.0000000000000000\",\"available\":\"0\",\"profile_id\":\"e85c9857-e0f1-4034-985a-e283602d8776\",\"trading_enabled\":true},{\"id\":\"e3ea6c25-1127-42da-a6c6-4b8c2e420388\",\"currency\":\"BAT\",\"balance\":\"0.0000000000000000\",\"hold\":\"0.0000000000000000\",\"available\":\"0\",\"profile_id\":\"e85c9857-e0f1-4034-985a-e283602d8776\",\"trading_enabled\":true},{\"id\":\"d3aa8a1c-58dc-4e93-9338-79575b394e40\",\"currency\":\"BCH\",\"balance\":\"0.0000000000000000\",\"hold\":\"0.0000000000000000\",\"available\":\"0\",\"profile_id\":\"e85c9857-e0f1-4034-985a-e283602d8776\",\"trading_enabled\":true},{\"id\":\"1593eeb4-ad19-48eb-bdc2-eaa95ad539fc\",\"currency\":\"BTC\",\"balance\":\"0.0000000000000000\",\"hold\":\"0.0000000000000000\",\"available\":\"0\",\"profile_id\":\"e85c9857-e0f1-4034-985a-e283602d8776\",\"trading_enabled\":true},{\"id\":\"04f66206-b9fe-4c52-ba96-f7beeb6120d2\",\"currency\":\"CGLD\",\"balance\":\"0.0000000000000000\",\"hold\":\"0.0000000000000000\",\"available\":\"0\",\"profile_id\":\"e85c9857-e0f1-4034-985a-e283602d8776\",\"trading_enabled\":true},{\"id\":\"80d9ac28-6cb2-4904-9e67-eb11fce41b93\",\"currency\":\"COMP\",\"balance\":\"0.0000000000000000\",\"hold\":\"0.0000000000000000\",\"available\":\"0\",\"profile_id\":\"e85c9857-e0f1-4034-985a-e283602d8776\",\"trading_enabled\":true},{\"id\":\"9948ca1e-7679-4991-8a58-566c625d6d80\",\"currency\":\"CVC\",\"balance\":\"0.0000000000000000\",\"hold\":\"0.0000000000000000\",\"available\":\"0\",\"profile_id\":\"e85c9857-e0f1-4034-985a-e283602d8776\",\"trading_enabled\":true},{\"id\":\"53d66483-bbb2-4c57-ba60-ca4c95cafa40\",\"currency\":\"DAI\",\"balance\":\"0.0000000000000000\",\"hold\":\"0.0000000000000000\",\"available\":\"0\",\"profile_id\":\"e85c9857-e0f1-4034-985a-e283602d8776\",\"trading_enabled\":true},{\"id\":\"3346c218-9361-4496-9b87-d9b3f9d8e4a7\",\"currency\":\"DASH\",\"balance\":\"0.0000000000000000\",\"hold\":\"0.0000000000000000\",\"available\":\"0\",\"profile_id\":\"e85c9857-e0f1-4034-985a-e283602d8776\",\"trading_enabled\":true},{\"id\":\"92fbdbce-5f9a-4749-8de7-a596f305e23b\",\"currency\":\"DNT\",\"balance\":\"0.0000000000000000\",\"hold\":\"0.0000000000000000\",\"available\":\"0\",\"profile_id\":\"e85c9857-e0f1-4034-985a-e283602d8776\",\"trading_enabled\":true},{\"id\":\"f62c14a3-9ecf-49aa-9d4d-ba7a48a703b2\",\"currency\":\"EOS\",\"balance\":\"0.0000000000000000\",\"hold\":\"0.0000000000000000\",\"available\":\"0\",\"profile_id\":\"e85c9857-e0f1-4034-985a-e283602d8776\",\"trading_enabled\":true},{\"id\":\"57c757af-c728-4460-bf8e-f9a4e094d8ad\",\"currency\":\"ETC\",\"balance\":\"0.0000000000000000\",\"hold\":\"0.0000000000000000\",\"available\":\"0\",\"profile_id\":\"e85c9857-e0f1-4034-985a-e283602d8776\",\"trading_enabled\":true},{\"id\":\"f1c5279a-e081-4fce-b3b5-5b3955a71f4a\",\"currency\":\"ETH\",\"balance\":\"0.0000000000000000\",\"hold\":\"0.0000000000000000\",\"available\":\"0\",\"profile_id\":\"e85c9857-e0f1-4034-985a-e283602d8776\",\"trading_enabled\":true},{\"id\":\"5f496756-dba6-447d-885e-40acd0a940a1\",\"currency\":\"GNT\",\"balance\":\"0.0000000000000000\",\"hold\":\"0.0000000000000000\",\"available\":\"0\",\"profile_id\":\"e85c9857-e0f1-4034-985a-e283602d8776\",\"trading_enabled\":true},{\"id\":\"b54608c2-46ba-4a57-8b21-c8094341f7f7\",\"currency\":\"KNC\",\"balance\":\"0.0000000000000000\",\"hold\":\"0.0000000000000000\",\"available\":\"0\",\"profile_id\":\"e85c9857-e0f1-4034-985a-e283602d8776\",\"trading_enabled\":true},{\"id\":\"cdd300ca-8b8a-4c50-9ff7-2d6c059d7f3c\",\"currency\":\"LINK\",\"balance\":\"0.0000000000000000\",\"hold\":\"0.0000000000000000\",\"available\":\"0\",\"profile_id\":\"e85c9857-e0f1-4034-985a-e283602d8776\",\"trading_enabled\":true},{\"id\":\"c40f885d-6843-4faf-8fbd-99efe9dfe9ba\",\"currency\":\"LOOM\",\"balance\":\"0.0000000000000000\",\"hold\":\"0.0000000000000000\",\"available\":\"0\",\"profile_id\":\"e85c9857-e0f1-4034-985a-e283602d8776\",\"trading_enabled\":true},{\"id\":\"ae7a75d9-8889-4652-905c-d8562d8197b7\",\"currency\":\"LRC\",\"balance\":\"0.0000000000000000\",\"hold\":\"0.0000000000000000\",\"available\":\"0\",\"profile_id\":\"e85c9857-e0f1-4034-985a-e283602d8776\",\"trading_enabled\":true},{\"id\":\"b74c9c04-e501-49e5-ae57-f3f355adaee4\",\"currency\":\"LTC\",\"balance\":\"0.0000000000000000\",\"hold\":\"0.0000000000000000\",\"available\":\"0\",\"profile_id\":\"e85c9857-e0f1-4034-985a-e283602d8776\",\"trading_enabled\":true},{\"id\":\"8d46b807-fcc7-48cc-bb1e-8db85f5a1265\",\"currency\":\"MANA\",\"balance\":\"0.0000000000000000\",\"hold\":\"0.0000000000000000\",\"available\":\"0\",\"profile_id\":\"e85c9857-e0f1-4034-985a-e283602d8776\",\"trading_enabled\":true},{\"id\":\"7e2a3425-8aa7-465d-94ea-cb0a05c7047f\",\"currency\":\"MKR\",\"balance\":\"0.0000000000000000\",\"hold\":\"0.0000000000000000\",\"available\":\"0\",\"profile_id\":\"e85c9857-e0f1-4034-985a-e283602d8776\",\"trading_enabled\":true},{\"id\":\"4e82d67d-fb98-4b2e-8bb5-9f31eb17e4b6\",\"currency\":\"NMR\",\"balance\":\"0.0000000000000000\",\"hold\":\"0.0000000000000000\",\"available\":\"0\",\"profile_id\":\"e85c9857-e0f1-4034-985a-e283602d8776\",\"trading_enabled\":true},{\"id\":\"b6237d02-9404-4faf-ae44-87496bb5fba8\",\"currency\":\"OMG\",\"balance\":\"0.0000000000000000\",\"hold\":\"0.0000000000000000\",\"available\":\"0\",\"profile_id\":\"e85c9857-e0f1-4034-985a-e283602d8776\",\"trading_enabled\":true},{\"id\":\"45f44e3b-17c4-4377-98ee-8d6870e315ad\",\"currency\":\"OXT\",\"balance\":\"0.0000000000000000\",\"hold\":\"0.0000000000000000\",\"available\":\"0\",\"profile_id\":\"e85c9857-e0f1-4034-985a-e283602d8776\",\"trading_enabled\":true},{\"id\":\"df39dca5-d157-4b68-ac86-2fefb1a83eb8\",\"currency\":\"REP\",\"balance\":\"0.0000000000000000\",\"hold\":\"0.0000000000000000\",\"available\":\"0\",\"profile_id\":\"e85c9857-e0f1-4034-985a-e283602d8776\",\"trading_enabled\":true},{\"id\":\"cb19a934-a5a7-46d4-a66f-8be83467e52a\",\"currency\":\"UMA\",\"balance\":\"0.0000000000000000\",\"hold\":\"0.0000000000000000\",\"available\":\"0\",\"profile_id\":\"e85c9857-e0f1-4034-985a-e283602d8776\",\"trading_enabled\":true},{\"id\":\"be26aa7a-1eb3-4c17-893d-03306252019a\",\"currency\":\"UNI\",\"balance\":\"0.0000000000000000\",\"hold\":\"0.0000000000000000\",\"available\":\"0\",\"profile_id\":\"e85c9857-e0f1-4034-985a-e283602d8776\",\"trading_enabled\":true},{\"id\":\"6bfc771c-b0fc-4e72-a9cd-5b1b5552ca95\",\"currency\":\"USD\",\"balance\":\"0.0000000000000000\",\"hold\":\"0.0000000000000000\",\"available\":\"0\",\"profile_id\":\"e85c9857-e0f1-4034-985a-e283602d8776\",\"trading_enabled\":true},{\"id\":\"68ee2466-7b44-487a-b5b2-34db531ae50b\",\"currency\":\"USDC\",\"balance\":\"0.0000000000000000\",\"hold\":\"0.0000000000000000\",\"available\":\"0\",\"profile_id\":\"e85c9857-e0f1-4034-985a-e283602d8776\",\"trading_enabled\":true},{\"id\":\"5b32be7b-8239-4d39-aadc-f6a6f42e7c67\",\"currency\":\"XLM\",\"balance\":\"0.0000000000000000\",\"hold\":\"0.0000000000000000\",\"available\":\"0\",\"profile_id\":\"e85c9857-e0f1-4034-985a-e283602d8776\",\"trading_enabled\":true},{\"id\":\"57eb2c8c-3333-4cdd-86e9-85a2f947c981\",\"currency\":\"XRP\",\"balance\":\"0.0000000000000000\",\"hold\":\"0.0000000000000000\",\"available\":\"0\",\"profile_id\":\"e85c9857-e0f1-4034-985a-e283602d8776\",\"trading_enabled\":true},{\"id\":\"22e64c25-6eef-4997-96c8-cabd498b72dd\",\"currency\":\"XTZ\",\"balance\":\"0.0000000000000000\",\"hold\":\"0.0000000000000000\",\"available\":\"0\",\"profile_id\":\"e85c9857-e0f1-4034-985a-e283602d8776\",\"trading_enabled\":true},{\"id\":\"b67363ae-2df3-48dd-b926-a76e8f75063b\",\"currency\":\"YFI\",\"balance\":\"0.0000000000000000\",\"hold\":\"0.0000000000000000\",\"available\":\"0\",\"profile_id\":\"e85c9857-e0f1-4034-985a-e283602d8776\",\"trading_enabled\":true},{\"id\":\"72a0fbf7-7fdf-4aab-8850-8417df5f9c26\",\"currency\":\"ZEC\",\"balance\":\"0.0000000000000000\",\"hold\":\"0.0000000000000000\",\"available\":\"0\",\"profile_id\":\"e85c9857-e0f1-4034-985a-e283602d8776\",\"trading_enabled\":true},{\"id\":\"4e29a04b-9663-4339-b30e-ac2765193a3c\",\"currency\":\"ZRX\",\"balance\":\"0.0000000000000000\",\"hold\":\"0.0000000000000000\",\"available\":\"0\",\"profile_id\":\"e85c9857-e0f1-4034-985a-e283602d8776\",\"trading_enabled\":true}]'"
      ]
     },
     "execution_count": 62,
     "metadata": {},
     "output_type": "execute_result"
    }
   ],
   "source": [
    "r.content"
   ]
  },
  {
   "cell_type": "markdown",
   "metadata": {},
   "source": [
    "## hmac error\n",
    "seems to be an issue with hmac.new(), particularly the 'message' parameter we pass in\n",
    "i'm tearing my already thinning hair out over this, but perhaps there's an easier solution (thank you colin for rubberducking me here).\n",
    "- dan's API wrapper hasn't implemented all the base functionality (i think?) so i'm trying to figure out the base deposit() methods without wrappers\n",
    "- dan's API wrapper worked just fine to authorize and view my accounts\n",
    "    - therefore, his python3 wrappers are handling this encoding error the base example is throwing\n",
    "    - maybe it's as simple as version syntax. either way, i can check his .py files i installed\n",
    "- AH it worked. brilliant\n",
    "    - oh, he encodes the message with ascii. huh.\n"
   ]
  },
  {
   "cell_type": "code",
   "execution_count": null,
   "metadata": {},
   "outputs": [],
   "source": [
    "# dan's wrapper authorization:\n",
    "class CoinbaseProAuth(AuthBase):\n",
    "\n",
    "    def __init__(self, api_key, secret_key, passphrase):\n",
    "        self.api_key = api_key\n",
    "        self.secret_key = secret_key\n",
    "        self.passphrase = passphrase\n",
    "\n",
    "    def __call__(self, request):\n",
    "        timestamp = str(time.time())\n",
    "        message = (timestamp + request.method + request.path_url +\n",
    "                   (request.body or ''))\n",
    "        message = message.encode('ascii')\n",
    "        hmac_key = base64.b64decode(self.secret_key)\n",
    "        signature = hmac.new(hmac_key, message, hashlib.sha256)\n",
    "        signature_b64 = base64.b64encode(signature.digest())\n",
    "        request.headers.update({\n",
    "            'CB-ACCESS-SIGN': signature_b64,\n",
    "            'CB-ACCESS-TIMESTAMP': timestamp,\n",
    "            'CB-ACCESS-KEY': self.api_key,\n",
    "            'CB-ACCESS-PASSPHRASE': self.passphrase,\n",
    "            'Content-Type': 'application/json'\n",
    "        })\n",
    "        return request"
   ]
  },
  {
   "cell_type": "code",
   "execution_count": null,
   "metadata": {},
   "outputs": [],
   "source": [
    "# Place an order\n",
    "order = {\n",
    "    'size': 1.0,\n",
    "    'price': 1.0,\n",
    "    'side': 'buy',\n",
    "    'product_id': 'BTC-USD',\n",
    "}\n",
    "r = requests.post(api_url + 'orders', json=order, auth=auth)\n",
    "print r.json()\n",
    "# {\"id\": \"0428b97b-bec1-429e-a94c-59992926778d\"}"
   ]
  },
  {
   "cell_type": "markdown",
   "metadata": {},
   "source": [
    "https://docs.python.org/3/library/hmac.html\n",
    "\n",
    "hmac.new(key, msg=None, digestmod='')\n",
    "Return a new hmac object. key is a bytes or bytearray object giving the secret key. If msg is present, the method call update(msg) is made. digestmod is the digest name, digest constructor or module for the HMAC object to use. It may be any name suitable to hashlib.new(). Despite its argument position, it is required.\n",
    "\n",
    "Changed in version 3.4: Parameter key can be a bytes or bytearray object. Parameter msg can be of any type supported by hashlib. Parameter digestmod can be the name of a hash algorithm.\n",
    "\n",
    "Deprecated since version 3.4, removed in version 3.8: MD5 as implicit default digest for digestmod is deprecated. The digestmod parameter is now required. Pass it as a keyword argument to avoid awkwardness when you do not have an initial msg.\n",
    "\n",
    "hmac.digest(key, msg, digest)\n",
    "Return digest of msg for given secret key and digest. The function is equivalent to HMAC(key, msg, digest).digest(), but uses an optimized C or inline implementation, which is faster for messages that fit into memory. The parameters key, msg, and digest have the same meaning as in new().\n",
    "\n",
    "CPython implementation detail, the optimized C implementation is only used when digest is a string and name of a digest algorithm, which is supported by OpenSSL.\n",
    "\n",
    "New in version 3.7."
   ]
  },
  {
   "cell_type": "code",
   "execution_count": 32,
   "metadata": {},
   "outputs": [],
   "source": [
    "# api_url = 'https://api.pro.coinbase.com/'\n",
    "# auth = CoinbaseExchangeAuth(secrets.pro_api_key, secrets.pro_secret_key, secrets.passphrase)\n",
    "# # get accounts\n",
    "# r = requests.get(api_url+'accounts', auth=auth)\n",
    "# # type(r)"
   ]
  },
  {
   "cell_type": "code",
   "execution_count": null,
   "metadata": {},
   "outputs": [],
   "source": [
    "api_url = 'https://api.pro.coinbase.com/'\n",
    "auth = CoinbaseExchangeAuth(API_KEY, API_SECRET, API_PASS)\n",
    "\n",
    "# Get accounts\n",
    "r = requests.get(api_url + 'accounts', auth=auth)\n",
    "print r.json()\n",
    "# [{\"id\": \"a1b2c3d4\", \"balance\":...\n",
    "\n",
    "# Place an order\n",
    "order = {\n",
    "    'size': 1.0,\n",
    "    'price': 1.0,\n",
    "    'side': 'buy',\n",
    "    'product_id': 'BTC-USD',\n",
    "}\n",
    "r = requests.post(api_url + 'orders', json=order, auth=auth)\n",
    "print r.json()\n",
    "# {\"id\": \"0428b97b-bec1-429e-a94c-59992926778d\"}"
   ]
  },
  {
   "cell_type": "markdown",
   "metadata": {},
   "source": [
    "## the examples on coinbasepro's API docs keep crashing\n",
    "could be something with python version mismatches. it's written in 2.7. i am constantly vexed by interesting things written in 2.7\n",
    "## let's use the unofficial wrappers!"
   ]
  },
  {
   "cell_type": "code",
   "execution_count": 38,
   "metadata": {},
   "outputs": [],
   "source": [
    "import cbpro\n",
    "\n",
    "key = secrets.pro_api_key\n",
    "unenc_secret = secrets.pro_secret_key\n",
    "b64secret = unenc_secret # it does the decoding for us, which eases my headaches around version mismatched syntax\n",
    "passphrase = secrets.passphrase\n",
    "auth_client = cbpro.AuthenticatedClient(key, b64secret, passphrase)\n",
    "# Use the sandbox API (requires a different set of API access credentials)\n",
    "# auth_client = cbpro.AuthenticatedClient(key, b64secret, passphrase,\n",
    "#                                   api_url=\"https://api-public.sandbox.pro.coinbase.com\")"
   ]
  },
  {
   "cell_type": "code",
   "execution_count": 40,
   "metadata": {},
   "outputs": [],
   "source": [
    "accs = auth_client.get_accounts()\n",
    "# accs"
   ]
  },
  {
   "cell_type": "markdown",
   "metadata": {},
   "source": [
    "# wrapper worked a beaut\n",
    "## let's figure out how deposits work\n",
    "- seems like you need to move funds from your 'main' coinbase accounts to separate 'deposit' portfolios for pro trading\n",
    "\n",
    "methods are here: https://github.com/danpaquin/coinbasepro-python\n",
    "ah, but this doesn't seem to manage deposits as i want. maybe (https://github.com/acontry/coinbasepro)?"
   ]
  },
  {
   "cell_type": "code",
   "execution_count": null,
   "metadata": {},
   "outputs": [],
   "source": []
  },
  {
   "cell_type": "code",
   "execution_count": null,
   "metadata": {},
   "outputs": [],
   "source": []
  },
  {
   "cell_type": "code",
   "execution_count": null,
   "metadata": {},
   "outputs": [],
   "source": []
  },
  {
   "cell_type": "code",
   "execution_count": null,
   "metadata": {},
   "outputs": [],
   "source": []
  },
  {
   "cell_type": "code",
   "execution_count": null,
   "metadata": {},
   "outputs": [],
   "source": []
  },
  {
   "cell_type": "code",
   "execution_count": null,
   "metadata": {},
   "outputs": [],
   "source": []
  },
  {
   "cell_type": "code",
   "execution_count": null,
   "metadata": {},
   "outputs": [],
   "source": []
  },
  {
   "cell_type": "code",
   "execution_count": null,
   "metadata": {},
   "outputs": [],
   "source": []
  },
  {
   "cell_type": "code",
   "execution_count": null,
   "metadata": {},
   "outputs": [],
   "source": []
  },
  {
   "cell_type": "code",
   "execution_count": null,
   "metadata": {},
   "outputs": [],
   "source": []
  },
  {
   "cell_type": "code",
   "execution_count": null,
   "metadata": {},
   "outputs": [],
   "source": []
  },
  {
   "cell_type": "code",
   "execution_count": null,
   "metadata": {},
   "outputs": [],
   "source": []
  },
  {
   "cell_type": "code",
   "execution_count": null,
   "metadata": {},
   "outputs": [],
   "source": []
  },
  {
   "cell_type": "code",
   "execution_count": null,
   "metadata": {},
   "outputs": [],
   "source": []
  },
  {
   "cell_type": "code",
   "execution_count": null,
   "metadata": {},
   "outputs": [],
   "source": []
  },
  {
   "cell_type": "code",
   "execution_count": null,
   "metadata": {},
   "outputs": [],
   "source": []
  }
 ],
 "metadata": {
  "kernelspec": {
   "display_name": "Python 3",
   "language": "python",
   "name": "python3"
  },
  "language_info": {
   "codemirror_mode": {
    "name": "ipython",
    "version": 3
   },
   "file_extension": ".py",
   "mimetype": "text/x-python",
   "name": "python",
   "nbconvert_exporter": "python",
   "pygments_lexer": "ipython3",
   "version": "3.7.4"
  },
  "toc": {
   "base_numbering": 1,
   "nav_menu": {},
   "number_sections": true,
   "sideBar": false,
   "skip_h1_title": false,
   "title_cell": "Table of Contents",
   "title_sidebar": "Contents",
   "toc_cell": true,
   "toc_position": {
    "height": "47.429px",
    "left": "1584.47px",
    "top": "53.4233px",
    "width": "160.98px"
   },
   "toc_section_display": false,
   "toc_window_display": true
  }
 },
 "nbformat": 4,
 "nbformat_minor": 2
}
