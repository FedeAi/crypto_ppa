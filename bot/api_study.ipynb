{
 "cells": [
  {
   "cell_type": "markdown",
   "metadata": {
    "toc": true
   },
   "source": [
    "<h1>Table of Contents<span class=\"tocSkip\"></span></h1>\n",
    "<div class=\"toc\"><ul class=\"toc-item\"><li><ul class=\"toc-item\"><li><span><a href=\"#backtesting-was-a-huge-success\" data-toc-modified-id=\"backtesting-was-a-huge-success-0.1\"><span class=\"toc-item-num\">0.1&nbsp;&nbsp;</span>backtesting was a huge success</a></span></li></ul></li><li><span><a href=\"#exchange-APIs\" data-toc-modified-id=\"exchange-APIs-1\"><span class=\"toc-item-num\">1&nbsp;&nbsp;</span>exchange APIs</a></span><ul class=\"toc-item\"><li><ul class=\"toc-item\"><li><span><a href=\"#.gitignore-note:\" data-toc-modified-id=\".gitignore-note:-1.0.1\"><span class=\"toc-item-num\">1.0.1&nbsp;&nbsp;</span>.gitignore note:</a></span></li></ul></li><li><span><a href=\"#oh-right,-a-newly-created-API-key-is-deactivated-for-48-hours-for-security-reasons\" data-toc-modified-id=\"oh-right,-a-newly-created-API-key-is-deactivated-for-48-hours-for-security-reasons-1.1\"><span class=\"toc-item-num\">1.1&nbsp;&nbsp;</span>oh right, a newly created API key is deactivated for 48 hours for security reasons</a></span></li></ul></li><li><span><a href=\"#example-authentication-/-transfer-app\" data-toc-modified-id=\"example-authentication-/-transfer-app-2\"><span class=\"toc-item-num\">2&nbsp;&nbsp;</span>example authentication / transfer app</a></span><ul class=\"toc-item\"><li><span><a href=\"#hmac-error\" data-toc-modified-id=\"hmac-error-2.1\"><span class=\"toc-item-num\">2.1&nbsp;&nbsp;</span>hmac error</a></span></li><li><span><a href=\"#the-examples-on-coinbasepro's-API-docs-keep-crashing\" data-toc-modified-id=\"the-examples-on-coinbasepro's-API-docs-keep-crashing-2.2\"><span class=\"toc-item-num\">2.2&nbsp;&nbsp;</span>the examples on coinbasepro's API docs keep crashing</a></span></li><li><span><a href=\"#let's-use-the-unofficial-wrappers!\" data-toc-modified-id=\"let's-use-the-unofficial-wrappers!-2.3\"><span class=\"toc-item-num\">2.3&nbsp;&nbsp;</span>let's use the unofficial wrappers!</a></span></li></ul></li><li><span><a href=\"#wrapper-worked-a-beaut\" data-toc-modified-id=\"wrapper-worked-a-beaut-3\"><span class=\"toc-item-num\">3&nbsp;&nbsp;</span>wrapper worked a beaut</a></span><ul class=\"toc-item\"><li><span><a href=\"#let's-figure-out-how-deposits-work\" data-toc-modified-id=\"let's-figure-out-how-deposits-work-3.1\"><span class=\"toc-item-num\">3.1&nbsp;&nbsp;</span>let's figure out how deposits work</a></span></li></ul></li><li><span><a href=\"#fixed-base-API-using-wrapper-files\" data-toc-modified-id=\"fixed-base-API-using-wrapper-files-4\"><span class=\"toc-item-num\">4&nbsp;&nbsp;</span>fixed base API using wrapper files</a></span><ul class=\"toc-item\"><li><ul class=\"toc-item\"><li><span><a href=\"#maybe-figured-out-the-syntax.\" data-toc-modified-id=\"maybe-figured-out-the-syntax.-4.0.1\"><span class=\"toc-item-num\">4.0.1&nbsp;&nbsp;</span>maybe figured out the syntax.</a></span></li></ul></li></ul></li><li><span><a href=\"#posting-/-buying\" data-toc-modified-id=\"posting-/-buying-5\"><span class=\"toc-item-num\">5&nbsp;&nbsp;</span>posting / buying</a></span><ul class=\"toc-item\"><li><span><a href=\"#wrapper-is-helpful-here.-might-want-to-rely-on-it,-really...\" data-toc-modified-id=\"wrapper-is-helpful-here.-might-want-to-rely-on-it,-really...-5.1\"><span class=\"toc-item-num\">5.1&nbsp;&nbsp;</span>wrapper is helpful here. might want to rely on it, really...</a></span><ul class=\"toc-item\"><li><span><a href=\"#realistic-bot-needs\" data-toc-modified-id=\"realistic-bot-needs-5.1.1\"><span class=\"toc-item-num\">5.1.1&nbsp;&nbsp;</span>realistic bot needs</a></span></li></ul></li></ul></li><li><span><a href=\"#initial-venture:\" data-toc-modified-id=\"initial-venture:-6\"><span class=\"toc-item-num\">6&nbsp;&nbsp;</span>initial venture:</a></span></li></ul></div>"
   ]
  },
  {
   "cell_type": "markdown",
   "metadata": {},
   "source": [
    "## backtesting was a huge success\n",
    "1,300 90-day portfolios over 3 years. average investment \\$16k\n",
    "\n",
    "9% returns in 3 months. sounds too good to be true\n",
    "\n",
    "did i make a laughable calculation error? let's find out by hooking the algo up to an exchange to run with real money"
   ]
  },
  {
   "cell_type": "markdown",
   "metadata": {},
   "source": [
    "# exchange APIs\n",
    "probably binance or coinbase. let's run with coinbase for the moment since i already have an account"
   ]
  },
  {
   "cell_type": "markdown",
   "metadata": {},
   "source": [
    "### .gitignore note:\n",
    "i'm currently working in a subfolder of the main repo directory. however, i can put 'file_to_ignore.txt' in the main .gitignore, and it doesn't push the file even if it's in a subfolder\n",
    "- this is good to know when i'm including an API key to access my personal BTC wallet"
   ]
  },
  {
   "cell_type": "code",
   "execution_count": 1,
   "metadata": {},
   "outputs": [],
   "source": [
    "import secrets # but don't print any key variables to cell output and then push the notebook..."
   ]
  },
  {
   "cell_type": "code",
   "execution_count": 2,
   "metadata": {},
   "outputs": [],
   "source": [
    "import coinbase"
   ]
  },
  {
   "cell_type": "code",
   "execution_count": 17,
   "metadata": {},
   "outputs": [],
   "source": [
    "# coinbase = coinbase.with_api_key(str(secrets.api_key), str(secrets.api_secret_key))\n",
    "# balance = coinbase.get_balance()\n",
    "\n",
    "# print('Balance is ' + balance + ' BTC')"
   ]
  },
  {
   "cell_type": "markdown",
   "metadata": {},
   "source": [
    "## oh right, a newly created API key is deactivated for 48 hours for security reasons\n",
    "makes sense. let's try the coinbasepro docs in the meantime"
   ]
  },
  {
   "cell_type": "code",
   "execution_count": 3,
   "metadata": {},
   "outputs": [],
   "source": [
    "import cbpro\n",
    "public_client = cbpro.PublicClient()"
   ]
  },
  {
   "cell_type": "markdown",
   "metadata": {},
   "source": [
    "https://docs.pro.coinbase.com/#client-libraries\n",
    "\n",
    "Profiles are the equivalent of portfolios on the Coinbase Pro website. API keys are scoped to a specific profile. An API key only has access to creating and viewing data that belongs to its own profile, unless otherwise noted. This is true for the REST API, FIX API and Websocket Feed. In order to access data or actions on a different profile, please create a new API key via the Coinbase Pro website.\n",
    "\n",
    "DELETED PROFILES\n",
    "Profiles can be deleted on the Coinbase Pro website. A deleted profile's API keys' permissions are automatically set to \"View\"."
   ]
  },
  {
   "cell_type": "markdown",
   "metadata": {},
   "source": [
    "The REST API has endpoints for account and order management as well as public market data.\n",
    "\n",
    "REST API ENDPOINT URL\n",
    "https://api.pro.coinbase.com"
   ]
  },
  {
   "cell_type": "markdown",
   "metadata": {},
   "source": [
    "Creating a Request\n",
    "All REST requests must contain the following headers:\n",
    "\n",
    "CB-ACCESS-KEY The api key as a string.\n",
    "CB-ACCESS-SIGN The base64-encoded signature (see Signing a Message).\n",
    "CB-ACCESS-TIMESTAMP A timestamp for your request.\n",
    "CB-ACCESS-PASSPHRASE The passphrase you specified when creating the API key.\n",
    "All request bodies should have content type application/json and be valid JSON.\n",
    "\n"
   ]
  },
  {
   "cell_type": "markdown",
   "metadata": {},
   "source": [
    "# example authentication / transfer app"
   ]
  },
  {
   "cell_type": "markdown",
   "metadata": {},
   "source": [
    " Remember to first base64-decode the alphanumeric secret string (resulting in 64 bytes) before using it as the key for HMAC. Also, base64-encode the digest output before sending in the header."
   ]
  },
  {
   "cell_type": "code",
   "execution_count": null,
   "metadata": {},
   "outputs": [],
   "source": []
  },
  {
   "cell_type": "code",
   "execution_count": null,
   "metadata": {},
   "outputs": [],
   "source": [
    "        timestamp = str(time.time())\n",
    "        message = (timestamp + request.method + request.path_url +\n",
    "                   (request.body or ''))\n",
    "        message = message.encode('ascii')\n",
    "        hmac_key = base64.b64decode(self.secret_key)\n",
    "        signature = hmac.new(hmac_key, message, hashlib.sha256)\n",
    "        signature_b64 = base64.b64encode(signature.digest())"
   ]
  },
  {
   "cell_type": "code",
   "execution_count": 60,
   "metadata": {},
   "outputs": [],
   "source": []
  },
  {
   "cell_type": "markdown",
   "metadata": {},
   "source": [
    "## hmac error\n",
    "seems to be an issue with hmac.new(), particularly the 'message' parameter we pass in\n",
    "i'm tearing my already thinning hair out over this, but perhaps there's an easier solution (thank you colin for rubberducking me here).\n",
    "- dan's API wrapper hasn't implemented all the base functionality (i think?) so i'm trying to figure out the base deposit() methods without wrappers\n",
    "- dan's API wrapper worked just fine to authorize and view my accounts\n",
    "    - therefore, his python3 wrappers are handling this encoding error the base example is throwing\n",
    "    - maybe it's as simple as version syntax. either way, i can check his .py files i installed\n",
    "- AH it worked. brilliant\n",
    "    - oh, he encodes the message with ascii. huh.\n"
   ]
  },
  {
   "cell_type": "code",
   "execution_count": null,
   "metadata": {},
   "outputs": [],
   "source": [
    "# dan's wrapper authorization:\n",
    "class CoinbaseProAuth(AuthBase):\n",
    "\n",
    "    def __init__(self, api_key, secret_key, passphrase):\n",
    "        self.api_key = api_key\n",
    "        self.secret_key = secret_key\n",
    "        self.passphrase = passphrase\n",
    "\n",
    "    def __call__(self, request):\n",
    "        timestamp = str(time.time())\n",
    "        message = (timestamp + request.method + request.path_url +\n",
    "                   (request.body or ''))\n",
    "        message = message.encode('ascii')\n",
    "        hmac_key = base64.b64decode(self.secret_key)\n",
    "        signature = hmac.new(hmac_key, message, hashlib.sha256)\n",
    "        signature_b64 = base64.b64encode(signature.digest())\n",
    "        request.headers.update({\n",
    "            'CB-ACCESS-SIGN': signature_b64,\n",
    "            'CB-ACCESS-TIMESTAMP': timestamp,\n",
    "            'CB-ACCESS-KEY': self.api_key,\n",
    "            'CB-ACCESS-PASSPHRASE': self.passphrase,\n",
    "            'Content-Type': 'application/json'\n",
    "        })\n",
    "        return request"
   ]
  },
  {
   "cell_type": "code",
   "execution_count": null,
   "metadata": {},
   "outputs": [],
   "source": [
    "# Place an order\n",
    "order = {\n",
    "    'size': 1.0,\n",
    "    'price': 1.0,\n",
    "    'side': 'buy',\n",
    "    'product_id': 'BTC-USD',\n",
    "}\n",
    "r = requests.post(api_url + 'orders', json=order, auth=auth)\n",
    "print r.json()\n",
    "# {\"id\": \"0428b97b-bec1-429e-a94c-59992926778d\"}"
   ]
  },
  {
   "cell_type": "markdown",
   "metadata": {},
   "source": [
    "https://docs.python.org/3/library/hmac.html\n",
    "\n",
    "hmac.new(key, msg=None, digestmod='')\n",
    "Return a new hmac object. key is a bytes or bytearray object giving the secret key. If msg is present, the method call update(msg) is made. digestmod is the digest name, digest constructor or module for the HMAC object to use. It may be any name suitable to hashlib.new(). Despite its argument position, it is required.\n",
    "\n",
    "Changed in version 3.4: Parameter key can be a bytes or bytearray object. Parameter msg can be of any type supported by hashlib. Parameter digestmod can be the name of a hash algorithm.\n",
    "\n",
    "Deprecated since version 3.4, removed in version 3.8: MD5 as implicit default digest for digestmod is deprecated. The digestmod parameter is now required. Pass it as a keyword argument to avoid awkwardness when you do not have an initial msg.\n",
    "\n",
    "hmac.digest(key, msg, digest)\n",
    "Return digest of msg for given secret key and digest. The function is equivalent to HMAC(key, msg, digest).digest(), but uses an optimized C or inline implementation, which is faster for messages that fit into memory. The parameters key, msg, and digest have the same meaning as in new().\n",
    "\n",
    "CPython implementation detail, the optimized C implementation is only used when digest is a string and name of a digest algorithm, which is supported by OpenSSL.\n",
    "\n",
    "New in version 3.7."
   ]
  },
  {
   "cell_type": "code",
   "execution_count": 32,
   "metadata": {},
   "outputs": [],
   "source": [
    "# api_url = 'https://api.pro.coinbase.com/'\n",
    "# auth = CoinbaseExchangeAuth(secrets.pro_api_key, secrets.pro_secret_key, secrets.passphrase)\n",
    "# # get accounts\n",
    "# r = requests.get(api_url+'accounts', auth=auth)\n",
    "# # type(r)"
   ]
  },
  {
   "cell_type": "code",
   "execution_count": null,
   "metadata": {},
   "outputs": [],
   "source": [
    "api_url = 'https://api.pro.coinbase.com/'\n",
    "auth = CoinbaseExchangeAuth(API_KEY, API_SECRET, API_PASS)\n",
    "\n",
    "# Get accounts\n",
    "r = requests.get(api_url + 'accounts', auth=auth)\n",
    "print r.json()\n",
    "# [{\"id\": \"a1b2c3d4\", \"balance\":...\n",
    "\n",
    "# Place an order\n",
    "order = {\n",
    "    'size': 1.0,\n",
    "    'price': 1.0,\n",
    "    'side': 'buy',\n",
    "    'product_id': 'BTC-USD',\n",
    "}\n",
    "r = requests.post(api_url + 'orders', json=order, auth=auth)\n",
    "print r.json()\n",
    "# {\"id\": \"0428b97b-bec1-429e-a94c-59992926778d\"}"
   ]
  },
  {
   "cell_type": "markdown",
   "metadata": {},
   "source": [
    "## the examples on coinbasepro's API docs keep crashing\n",
    "could be something with python version mismatches. it's written in 2.7. i am constantly vexed by interesting things written in 2.7\n",
    "## let's use the unofficial wrappers!"
   ]
  },
  {
   "cell_type": "code",
   "execution_count": 38,
   "metadata": {},
   "outputs": [],
   "source": [
    "import cbpro\n",
    "\n",
    "key = secrets.pro_api_key\n",
    "unenc_secret = secrets.pro_secret_key\n",
    "b64secret = unenc_secret # it does the decoding for us, which eases my headaches around version mismatched syntax\n",
    "passphrase = secrets.passphrase\n",
    "auth_client = cbpro.AuthenticatedClient(key, b64secret, passphrase)\n",
    "# Use the sandbox API (requires a different set of API access credentials)\n",
    "# auth_client = cbpro.AuthenticatedClient(key, b64secret, passphrase,\n",
    "#                                   api_url=\"https://api-public.sandbox.pro.coinbase.com\")"
   ]
  },
  {
   "cell_type": "code",
   "execution_count": 40,
   "metadata": {},
   "outputs": [],
   "source": [
    "accs = auth_client.get_accounts()\n",
    "# accs"
   ]
  },
  {
   "cell_type": "markdown",
   "metadata": {},
   "source": [
    "# wrapper worked a beaut\n",
    "## let's figure out how deposits work\n",
    "- seems like you need to move funds from your 'main' coinbase accounts to separate 'deposit' portfolios for pro trading\n",
    "\n",
    "methods are here: https://github.com/danpaquin/coinbasepro-python\n",
    "ah, but this doesn't seem to manage deposits as i want. maybe (https://github.com/acontry/coinbasepro)?"
   ]
  },
  {
   "cell_type": "code",
   "execution_count": null,
   "metadata": {},
   "outputs": [],
   "source": []
  },
  {
   "cell_type": "code",
   "execution_count": null,
   "metadata": {},
   "outputs": [],
   "source": []
  },
  {
   "cell_type": "markdown",
   "metadata": {},
   "source": [
    "# fixed base API using wrapper files\n"
   ]
  },
  {
   "cell_type": "code",
   "execution_count": 65,
   "metadata": {},
   "outputs": [
    {
     "data": {
      "text/plain": [
       "[{'id': '87492cf3-986b-4ad0-93d4-01020c99d85a',\n",
       "  'currency': 'ALGO',\n",
       "  'balance': '0.0000000000000000',\n",
       "  'hold': '0.0000000000000000',\n",
       "  'available': '0',\n",
       "  'profile_id': 'e85c9857-e0f1-4034-985a-e283602d8776',\n",
       "  'trading_enabled': True},\n",
       " {'id': 'e071d6ff-9245-4513-8a9d-a7737d624833',\n",
       "  'currency': 'ATOM',\n",
       "  'balance': '0.0000000000000000',\n",
       "  'hold': '0.0000000000000000',\n",
       "  'available': '0',\n",
       "  'profile_id': 'e85c9857-e0f1-4034-985a-e283602d8776',\n",
       "  'trading_enabled': True},\n",
       " {'id': '9fb6bc8d-fea0-45d6-bacc-3142a6b52de1',\n",
       "  'currency': 'BAND',\n",
       "  'balance': '0.0000000000000000',\n",
       "  'hold': '0.0000000000000000',\n",
       "  'available': '0',\n",
       "  'profile_id': 'e85c9857-e0f1-4034-985a-e283602d8776',\n",
       "  'trading_enabled': True},\n",
       " {'id': 'e3ea6c25-1127-42da-a6c6-4b8c2e420388',\n",
       "  'currency': 'BAT',\n",
       "  'balance': '0.0000000000000000',\n",
       "  'hold': '0.0000000000000000',\n",
       "  'available': '0',\n",
       "  'profile_id': 'e85c9857-e0f1-4034-985a-e283602d8776',\n",
       "  'trading_enabled': True},\n",
       " {'id': 'd3aa8a1c-58dc-4e93-9338-79575b394e40',\n",
       "  'currency': 'BCH',\n",
       "  'balance': '0.0000000000000000',\n",
       "  'hold': '0.0000000000000000',\n",
       "  'available': '0',\n",
       "  'profile_id': 'e85c9857-e0f1-4034-985a-e283602d8776',\n",
       "  'trading_enabled': True},\n",
       " {'id': '1593eeb4-ad19-48eb-bdc2-eaa95ad539fc',\n",
       "  'currency': 'BTC',\n",
       "  'balance': '0.0000000000000000',\n",
       "  'hold': '0.0000000000000000',\n",
       "  'available': '0',\n",
       "  'profile_id': 'e85c9857-e0f1-4034-985a-e283602d8776',\n",
       "  'trading_enabled': True},\n",
       " {'id': '04f66206-b9fe-4c52-ba96-f7beeb6120d2',\n",
       "  'currency': 'CGLD',\n",
       "  'balance': '0.0000000000000000',\n",
       "  'hold': '0.0000000000000000',\n",
       "  'available': '0',\n",
       "  'profile_id': 'e85c9857-e0f1-4034-985a-e283602d8776',\n",
       "  'trading_enabled': True},\n",
       " {'id': '80d9ac28-6cb2-4904-9e67-eb11fce41b93',\n",
       "  'currency': 'COMP',\n",
       "  'balance': '0.0000000000000000',\n",
       "  'hold': '0.0000000000000000',\n",
       "  'available': '0',\n",
       "  'profile_id': 'e85c9857-e0f1-4034-985a-e283602d8776',\n",
       "  'trading_enabled': True},\n",
       " {'id': '9948ca1e-7679-4991-8a58-566c625d6d80',\n",
       "  'currency': 'CVC',\n",
       "  'balance': '0.0000000000000000',\n",
       "  'hold': '0.0000000000000000',\n",
       "  'available': '0',\n",
       "  'profile_id': 'e85c9857-e0f1-4034-985a-e283602d8776',\n",
       "  'trading_enabled': True},\n",
       " {'id': '53d66483-bbb2-4c57-ba60-ca4c95cafa40',\n",
       "  'currency': 'DAI',\n",
       "  'balance': '0.0000000000000000',\n",
       "  'hold': '0.0000000000000000',\n",
       "  'available': '0',\n",
       "  'profile_id': 'e85c9857-e0f1-4034-985a-e283602d8776',\n",
       "  'trading_enabled': True},\n",
       " {'id': '3346c218-9361-4496-9b87-d9b3f9d8e4a7',\n",
       "  'currency': 'DASH',\n",
       "  'balance': '0.0000000000000000',\n",
       "  'hold': '0.0000000000000000',\n",
       "  'available': '0',\n",
       "  'profile_id': 'e85c9857-e0f1-4034-985a-e283602d8776',\n",
       "  'trading_enabled': True},\n",
       " {'id': '92fbdbce-5f9a-4749-8de7-a596f305e23b',\n",
       "  'currency': 'DNT',\n",
       "  'balance': '0.0000000000000000',\n",
       "  'hold': '0.0000000000000000',\n",
       "  'available': '0',\n",
       "  'profile_id': 'e85c9857-e0f1-4034-985a-e283602d8776',\n",
       "  'trading_enabled': True},\n",
       " {'id': 'f62c14a3-9ecf-49aa-9d4d-ba7a48a703b2',\n",
       "  'currency': 'EOS',\n",
       "  'balance': '0.0000000000000000',\n",
       "  'hold': '0.0000000000000000',\n",
       "  'available': '0',\n",
       "  'profile_id': 'e85c9857-e0f1-4034-985a-e283602d8776',\n",
       "  'trading_enabled': True},\n",
       " {'id': '57c757af-c728-4460-bf8e-f9a4e094d8ad',\n",
       "  'currency': 'ETC',\n",
       "  'balance': '0.0000000000000000',\n",
       "  'hold': '0.0000000000000000',\n",
       "  'available': '0',\n",
       "  'profile_id': 'e85c9857-e0f1-4034-985a-e283602d8776',\n",
       "  'trading_enabled': True},\n",
       " {'id': 'f1c5279a-e081-4fce-b3b5-5b3955a71f4a',\n",
       "  'currency': 'ETH',\n",
       "  'balance': '0.0000000000000000',\n",
       "  'hold': '0.0000000000000000',\n",
       "  'available': '0',\n",
       "  'profile_id': 'e85c9857-e0f1-4034-985a-e283602d8776',\n",
       "  'trading_enabled': True},\n",
       " {'id': '5f496756-dba6-447d-885e-40acd0a940a1',\n",
       "  'currency': 'GNT',\n",
       "  'balance': '0.0000000000000000',\n",
       "  'hold': '0.0000000000000000',\n",
       "  'available': '0',\n",
       "  'profile_id': 'e85c9857-e0f1-4034-985a-e283602d8776',\n",
       "  'trading_enabled': True},\n",
       " {'id': 'b54608c2-46ba-4a57-8b21-c8094341f7f7',\n",
       "  'currency': 'KNC',\n",
       "  'balance': '0.0000000000000000',\n",
       "  'hold': '0.0000000000000000',\n",
       "  'available': '0',\n",
       "  'profile_id': 'e85c9857-e0f1-4034-985a-e283602d8776',\n",
       "  'trading_enabled': True},\n",
       " {'id': 'cdd300ca-8b8a-4c50-9ff7-2d6c059d7f3c',\n",
       "  'currency': 'LINK',\n",
       "  'balance': '0.0000000000000000',\n",
       "  'hold': '0.0000000000000000',\n",
       "  'available': '0',\n",
       "  'profile_id': 'e85c9857-e0f1-4034-985a-e283602d8776',\n",
       "  'trading_enabled': True},\n",
       " {'id': 'c40f885d-6843-4faf-8fbd-99efe9dfe9ba',\n",
       "  'currency': 'LOOM',\n",
       "  'balance': '0.0000000000000000',\n",
       "  'hold': '0.0000000000000000',\n",
       "  'available': '0',\n",
       "  'profile_id': 'e85c9857-e0f1-4034-985a-e283602d8776',\n",
       "  'trading_enabled': True},\n",
       " {'id': 'ae7a75d9-8889-4652-905c-d8562d8197b7',\n",
       "  'currency': 'LRC',\n",
       "  'balance': '0.0000000000000000',\n",
       "  'hold': '0.0000000000000000',\n",
       "  'available': '0',\n",
       "  'profile_id': 'e85c9857-e0f1-4034-985a-e283602d8776',\n",
       "  'trading_enabled': True},\n",
       " {'id': 'b74c9c04-e501-49e5-ae57-f3f355adaee4',\n",
       "  'currency': 'LTC',\n",
       "  'balance': '0.0000000000000000',\n",
       "  'hold': '0.0000000000000000',\n",
       "  'available': '0',\n",
       "  'profile_id': 'e85c9857-e0f1-4034-985a-e283602d8776',\n",
       "  'trading_enabled': True},\n",
       " {'id': '8d46b807-fcc7-48cc-bb1e-8db85f5a1265',\n",
       "  'currency': 'MANA',\n",
       "  'balance': '0.0000000000000000',\n",
       "  'hold': '0.0000000000000000',\n",
       "  'available': '0',\n",
       "  'profile_id': 'e85c9857-e0f1-4034-985a-e283602d8776',\n",
       "  'trading_enabled': True},\n",
       " {'id': '7e2a3425-8aa7-465d-94ea-cb0a05c7047f',\n",
       "  'currency': 'MKR',\n",
       "  'balance': '0.0000000000000000',\n",
       "  'hold': '0.0000000000000000',\n",
       "  'available': '0',\n",
       "  'profile_id': 'e85c9857-e0f1-4034-985a-e283602d8776',\n",
       "  'trading_enabled': True},\n",
       " {'id': '4e82d67d-fb98-4b2e-8bb5-9f31eb17e4b6',\n",
       "  'currency': 'NMR',\n",
       "  'balance': '0.0000000000000000',\n",
       "  'hold': '0.0000000000000000',\n",
       "  'available': '0',\n",
       "  'profile_id': 'e85c9857-e0f1-4034-985a-e283602d8776',\n",
       "  'trading_enabled': True},\n",
       " {'id': 'b6237d02-9404-4faf-ae44-87496bb5fba8',\n",
       "  'currency': 'OMG',\n",
       "  'balance': '0.0000000000000000',\n",
       "  'hold': '0.0000000000000000',\n",
       "  'available': '0',\n",
       "  'profile_id': 'e85c9857-e0f1-4034-985a-e283602d8776',\n",
       "  'trading_enabled': True},\n",
       " {'id': '45f44e3b-17c4-4377-98ee-8d6870e315ad',\n",
       "  'currency': 'OXT',\n",
       "  'balance': '0.0000000000000000',\n",
       "  'hold': '0.0000000000000000',\n",
       "  'available': '0',\n",
       "  'profile_id': 'e85c9857-e0f1-4034-985a-e283602d8776',\n",
       "  'trading_enabled': True},\n",
       " {'id': 'df39dca5-d157-4b68-ac86-2fefb1a83eb8',\n",
       "  'currency': 'REP',\n",
       "  'balance': '0.0000000000000000',\n",
       "  'hold': '0.0000000000000000',\n",
       "  'available': '0',\n",
       "  'profile_id': 'e85c9857-e0f1-4034-985a-e283602d8776',\n",
       "  'trading_enabled': True},\n",
       " {'id': 'cb19a934-a5a7-46d4-a66f-8be83467e52a',\n",
       "  'currency': 'UMA',\n",
       "  'balance': '0.0000000000000000',\n",
       "  'hold': '0.0000000000000000',\n",
       "  'available': '0',\n",
       "  'profile_id': 'e85c9857-e0f1-4034-985a-e283602d8776',\n",
       "  'trading_enabled': True},\n",
       " {'id': 'be26aa7a-1eb3-4c17-893d-03306252019a',\n",
       "  'currency': 'UNI',\n",
       "  'balance': '0.0000000000000000',\n",
       "  'hold': '0.0000000000000000',\n",
       "  'available': '0',\n",
       "  'profile_id': 'e85c9857-e0f1-4034-985a-e283602d8776',\n",
       "  'trading_enabled': True},\n",
       " {'id': '6bfc771c-b0fc-4e72-a9cd-5b1b5552ca95',\n",
       "  'currency': 'USD',\n",
       "  'balance': '10.0000000000000000',\n",
       "  'hold': '0.0000000000000000',\n",
       "  'available': '10',\n",
       "  'profile_id': 'e85c9857-e0f1-4034-985a-e283602d8776',\n",
       "  'trading_enabled': True},\n",
       " {'id': '68ee2466-7b44-487a-b5b2-34db531ae50b',\n",
       "  'currency': 'USDC',\n",
       "  'balance': '0.0000000000000000',\n",
       "  'hold': '0.0000000000000000',\n",
       "  'available': '0',\n",
       "  'profile_id': 'e85c9857-e0f1-4034-985a-e283602d8776',\n",
       "  'trading_enabled': True},\n",
       " {'id': '5b32be7b-8239-4d39-aadc-f6a6f42e7c67',\n",
       "  'currency': 'XLM',\n",
       "  'balance': '0.0000000000000000',\n",
       "  'hold': '0.0000000000000000',\n",
       "  'available': '0',\n",
       "  'profile_id': 'e85c9857-e0f1-4034-985a-e283602d8776',\n",
       "  'trading_enabled': True},\n",
       " {'id': '57eb2c8c-3333-4cdd-86e9-85a2f947c981',\n",
       "  'currency': 'XRP',\n",
       "  'balance': '0.0000000000000000',\n",
       "  'hold': '0.0000000000000000',\n",
       "  'available': '0',\n",
       "  'profile_id': 'e85c9857-e0f1-4034-985a-e283602d8776',\n",
       "  'trading_enabled': True},\n",
       " {'id': '22e64c25-6eef-4997-96c8-cabd498b72dd',\n",
       "  'currency': 'XTZ',\n",
       "  'balance': '0.0000000000000000',\n",
       "  'hold': '0.0000000000000000',\n",
       "  'available': '0',\n",
       "  'profile_id': 'e85c9857-e0f1-4034-985a-e283602d8776',\n",
       "  'trading_enabled': True},\n",
       " {'id': 'b67363ae-2df3-48dd-b926-a76e8f75063b',\n",
       "  'currency': 'YFI',\n",
       "  'balance': '0.0000000000000000',\n",
       "  'hold': '0.0000000000000000',\n",
       "  'available': '0',\n",
       "  'profile_id': 'e85c9857-e0f1-4034-985a-e283602d8776',\n",
       "  'trading_enabled': True},\n",
       " {'id': '72a0fbf7-7fdf-4aab-8850-8417df5f9c26',\n",
       "  'currency': 'ZEC',\n",
       "  'balance': '0.0000000000000000',\n",
       "  'hold': '0.0000000000000000',\n",
       "  'available': '0',\n",
       "  'profile_id': 'e85c9857-e0f1-4034-985a-e283602d8776',\n",
       "  'trading_enabled': True},\n",
       " {'id': '4e29a04b-9663-4339-b30e-ac2765193a3c',\n",
       "  'currency': 'ZRX',\n",
       "  'balance': '0.0000000000000000',\n",
       "  'hold': '0.0000000000000000',\n",
       "  'available': '0',\n",
       "  'profile_id': 'e85c9857-e0f1-4034-985a-e283602d8776',\n",
       "  'trading_enabled': True}]"
      ]
     },
     "execution_count": 65,
     "metadata": {},
     "output_type": "execute_result"
    }
   ],
   "source": [
    "import json, hmac, hashlib, time, requests, base64\n",
    "from requests.auth import AuthBase\n",
    "\n",
    "class CoinbaseExchangeAuth(AuthBase):\n",
    "    \n",
    "    def __init__(self, api_key, secret_key, passphrase):\n",
    "        self.api_key = api_key\n",
    "        self.secret_key = secret_key\n",
    "        self.passphrase = passphrase\n",
    "        \n",
    "    def __call__(self, request): # return request...?\n",
    "        timestamp = str(time.time())\n",
    "        message = (timestamp + request.method + request.path_url + (request.body or ''))\n",
    "        message = message.encode('ascii')\n",
    "        hmac_key = base64.b64decode(self.secret_key)  # why does this crash?\n",
    "        signature = hmac.new(hmac_key, message, hashlib.sha256)\n",
    "#         signature_b64 = signature.digest().encode('base64').rstrip('\\n')\n",
    "        # AttributeError: 'bytes' object has no attribute 'encode'\n",
    "        signature_b64 = base64.b64encode(signature.digest())\n",
    "        # oh, it's a syntax thing. hilarious\n",
    "\n",
    "        request.headers.update({\n",
    "            'CB-ACCESS-SIGN': signature_b64,\n",
    "            'CB-ACCESS-TIMESTAMP': timestamp,\n",
    "            'CB-ACCESS-KEY': self.api_key,\n",
    "            'CB-ACCESS-PASSPHRASE': self.passphrase,\n",
    "            'Content-Type': 'application/json'})\n",
    "        return request\n",
    "\n",
    "api_url = 'https://api.pro.coinbase.com/'\n",
    "auth = CoinbaseExchangeAuth(secrets.pro_api_key, secrets.pro_secret_key, secrets.passphrase)\n",
    "\n",
    "# Get accounts\n",
    "r = requests.get(api_url + 'accounts', auth=auth)\n",
    "# print r.json()\n",
    "r.json()"
   ]
  },
  {
   "cell_type": "code",
   "execution_count": null,
   "metadata": {},
   "outputs": [],
   "source": [
    "# nice, that reflected the $10 i transferred from coinbase to coinbase pro just now"
   ]
  },
  {
   "cell_type": "markdown",
   "metadata": {},
   "source": [
    "the docs for \"get accounts\" say :\n",
    "\n",
    "HTTP REQUEST\n",
    "GET /accounts\n",
    "\n",
    "the wrapper translates this to:\n",
    "\n",
    "r = requests.get(api_url + 'accounts', auth=auth)\n"
   ]
  },
  {
   "cell_type": "code",
   "execution_count": null,
   "metadata": {},
   "outputs": [],
   "source": [
    "# the guy's wrapper for \"get one specific account\":\n",
    "'get','/accounts/' + account_id,"
   ]
  },
  {
   "cell_type": "code",
   "execution_count": 66,
   "metadata": {},
   "outputs": [
    {
     "data": {
      "text/plain": [
       "{'id': '6bfc771c-b0fc-4e72-a9cd-5b1b5552ca95',\n",
       " 'currency': 'USD',\n",
       " 'balance': '10.0000000000000000',\n",
       " 'hold': '0.0000000000000000',\n",
       " 'available': '10',\n",
       " 'profile_id': 'e85c9857-e0f1-4034-985a-e283602d8776',\n",
       " 'trading_enabled': True}"
      ]
     },
     "execution_count": 66,
     "metadata": {},
     "output_type": "execute_result"
    }
   ],
   "source": [
    "uid = '6bfc771c-b0fc-4e72-a9cd-5b1b5552ca95'\n",
    "r = requests.get(api_url + 'accounts/'+uid, auth=auth)\n",
    "r.json() # hah! don't really know how i worked that one out, but it worked"
   ]
  },
  {
   "cell_type": "markdown",
   "metadata": {},
   "source": [
    "GET /accounts/<account-id>/ledger\n",
    "\n"
   ]
  },
  {
   "cell_type": "code",
   "execution_count": 67,
   "metadata": {},
   "outputs": [
    {
     "data": {
      "text/plain": [
       "[{'id': '2737322190',\n",
       "  'amount': '10.0000000000000000',\n",
       "  'balance': '10.0000000000000000',\n",
       "  'created_at': '2020-09-23T21:32:51.993332Z',\n",
       "  'type': 'transfer',\n",
       "  'details': {'transfer_id': '3ba44606-c431-4e7f-b04b-48b37675d188',\n",
       "   'transfer_type': 'deposit'}}]"
      ]
     },
     "execution_count": 67,
     "metadata": {},
     "output_type": "execute_result"
    }
   ],
   "source": [
    "r = requests.get(api_url + 'accounts/'+uid+'/ledger', auth=auth)\n",
    "r.json() "
   ]
  },
  {
   "cell_type": "markdown",
   "metadata": {},
   "source": [
    "### maybe figured out the syntax.\n",
    "that works too. so the part after \"GET\" in the website is the string to put into requests.get()'s 2nd parameter\n",
    "\n",
    "should pay attention to pagination as well. hmm"
   ]
  },
  {
   "cell_type": "markdown",
   "metadata": {},
   "source": [
    "# posting / buying\n",
    "requests.post() sends some data to a server. in this case, how much we want to buy and of what with what.\n",
    "\n",
    "## wrapper is helpful here. might want to rely on it, really..."
   ]
  },
  {
   "cell_type": "code",
   "execution_count": null,
   "metadata": {},
   "outputs": [],
   "source": [
    "    def place_order(self,\n",
    "                    product_id: str,\n",
    "                    side: str,\n",
    "                    order_type: str,\n",
    "                    stop: Optional[str] = None,\n",
    "                    stop_price: Optional[Union[float, Decimal]] = None, # union returns the uniques...\n",
    "                    # interesting stop here!\n",
    "                    client_oid: Optional[str] = None,\n",
    "                    stp: Optional[str] = None,\n",
    "                    **kwargs) -> Dict[str, Any]:\n",
    "        \"\"\"Place an order.\n",
    "\n",
    "        The two order types (limit and market) can be placed using this\n",
    "        method. Specific methods are provided for each order type, but\n",
    "        if a more generic interface is desired this method is\n",
    "        available.\n",
    "aut.place_order('BTC-USD', 'buy', 'market', )\n",
    "        Args: \n",
    "            product_id: Product to order (eg. 'BTC-USD').\n",
    "            side: Order side ('buy' or 'sell').\n",
    "            order_type: Order type ('limit' or 'market').\n",
    "            stop: Sets the type of stop order. There are two options:\n",
    "                'loss': Triggers when the last trade price changes to a\n",
    "                    value at or below the `stop_price`.\n",
    "                'entry: Triggers when the last trade price changes to a\n",
    "                    value at or above the `stop_price`.\n",
    "                `stop_price` must be set when a stop order is specified.\n",
    "            stop_price: Trigger price for stop order.\n",
    "            client_oid: Order ID selected by you to identify your\n",
    "                order. This should be a UUID, which will be broadcast\n",
    "                in the public feed for `received` messages.\n",
    "            stp: Self-trade prevention flag. Coinbase Pro doesn't allow\n",
    "                self-trading. This behavior can be modified with this\n",
    "                flag. Options:\n",
    "                'dc': Decrease and Cancel (default)\n",
    "                'co': Cancel oldest\n",
    "                'cn': Cancel newest\n",
    "                'cb': Cancel both\n",
    "            kwargs: Additional arguments can be specified for different\n",
    "                order types. See the limit/market order methods for\n",
    "                details.\n",
    "\n",
    "        Returns:\n",
    "            Order details. Example::\n",
    "            {\n",
    "                'id': 'd0c5340b-6d6c-49d9-b567-48c4bfca13d2',\n",
    "                'price': Decimal('0.10000000'),\n",
    "                'size': Decimal('0.01000000'),\n",
    "                'product_id': 'BTC-USD',\n",
    "                'side': 'buy',\n",
    "                'stp': 'dc',\n",
    "                'type': 'limit',\n",
    "                'time_in_force': 'GTC',\n",
    "                'post_only': false,\n",
    "                'created_at': datetime(2019, 3, 19, 22, 26, 22, 520000),\n",
    "                'fill_fees': Decimal('0.0000000000000000'),\n",
    "                'filled_size': Decimal('0.00000000'),\n",
    "                'executed_value': Decimal('0.0000000000000000'),\n",
    "                'status': 'pending',\n",
    "                'settled': False\n",
    "            }\n",
    "\n",
    "        Raises:\n",
    "            ValueError: Incorrect order parameters.\n",
    "            See `get_products()`.\n",
    "\n",
    "        \"\"\"\n",
    "        # Market order checks\n",
    "        if order_type == 'market':\n",
    "            if kwargs.get('size') is None and kwargs.get('funds') is None:\n",
    "                raise ValueError('Must specify `size` or `funds` for a market '\n",
    "                                 'order')\n",
    "\n",
    "        # Limit order checks\n",
    "        if order_type == 'limit':\n",
    "            if (kwargs.get('cancel_after') is not None and\n",
    "                    kwargs.get('time_in_force') != 'GTT'):\n",
    "                raise ValueError('May only specify a cancel period when time '\n",
    "                                 'in_force is `GTT`')\n",
    "            if (kwargs.get('post_only') is not None and\n",
    "                    kwargs.get('time_in_force') in ['IOC', 'FOK']):\n",
    "                raise ValueError('post_only is invalid when time in force is '\n",
    "                                 '`IOC` or `FOK`')\n",
    "\n",
    "        # Stop order checks\n",
    "        if (stop is not None) ^ (stop_price is not None):\n",
    "            raise ValueError('Both `stop` and `stop_price` must be specified at'\n",
    "                             'the same time.')\n",
    "\n",
    "        # Build params dict\n",
    "        params = {'product_id': product_id,\n",
    "                  'side': side,\n",
    "                  'type': order_type,\n",
    "                  'stop': stop,\n",
    "                  'stop_price': stop_price,\n",
    "                  'client_oid': client_oid,\n",
    "                  'stp': stp}\n",
    "        params.update(kwargs)\n",
    "\n",
    "        field_conversions = {'price': Decimal,\n",
    "                             'size': Decimal,\n",
    "                             'created_at': self._parse_datetime,\n",
    "                             'fill_fees': Decimal,\n",
    "                             'filled_size': Decimal,\n",
    "                             'executed_value': Decimal}\n",
    "        r = self._send_message('post', '/orders',\n",
    "                               data=json.dumps(params),\n",
    "                               rate_limiter=self.a_rate_limiter)\n",
    "        return self._convert_dict(r, field_conversions)"
   ]
  },
  {
   "cell_type": "code",
   "execution_count": 71,
   "metadata": {},
   "outputs": [],
   "source": [
    "import cbpro\n",
    "aut = cbpro.AuthenticatedClient(secrets.pro_api_key, secrets.pro_secret_key, secrets.passphrase)"
   ]
  },
  {
   "cell_type": "code",
   "execution_count": null,
   "metadata": {},
   "outputs": [],
   "source": [
    "aut.place_order()"
   ]
  },
  {
   "cell_type": "markdown",
   "metadata": {},
   "source": [
    "### realistic bot needs\n",
    "- i won't need much more than get_account() or get_accounts() and place_order() with some auto-stop configuration. that would be... really cool\n",
    "- the only time the bot \"checks\" BTC_price is when it asks 'whether or not to sell autostop if threshold exceeded'.\n",
    "    - this post_auto_stop function seems to take care of that neatly"
   ]
  },
  {
   "cell_type": "code",
   "execution_count": 72,
   "metadata": {},
   "outputs": [
    {
     "data": {
      "text/plain": [
       "{'id': 'b06a2be3-136d-48e9-9657-b02a3f45d9d2',\n",
       " 'product_id': 'BTC-USD',\n",
       " 'side': 'buy',\n",
       " 'stp': 'dc',\n",
       " 'funds': '4.97512437',\n",
       " 'specified_funds': '5.00',\n",
       " 'type': 'market',\n",
       " 'post_only': False,\n",
       " 'created_at': '2020-09-23T21:52:35.0406Z',\n",
       " 'fill_fees': '0',\n",
       " 'filled_size': '0',\n",
       " 'executed_value': '0',\n",
       " 'status': 'pending',\n",
       " 'settled': False}"
      ]
     },
     "execution_count": 72,
     "metadata": {},
     "output_type": "execute_result"
    }
   ],
   "source": [
    "aut.place_market_order(product_id='BTC-USD', \n",
    "                               side='buy', \n",
    "                               funds='5.00')\n",
    "# ah, i forgot to assign it to a requests object so we can investigate when it changes\n",
    "# does that work? that probably doesn't work\n",
    "# wonder if it'll change jupyter cell output like before"
   ]
  },
  {
   "cell_type": "code",
   "execution_count": 73,
   "metadata": {},
   "outputs": [],
   "source": [
    "ords = aut.get_orders()"
   ]
  },
  {
   "cell_type": "code",
   "execution_count": 77,
   "metadata": {},
   "outputs": [
    {
     "data": {
      "text/plain": [
       "generator"
      ]
     },
     "execution_count": 77,
     "metadata": {},
     "output_type": "execute_result"
    }
   ],
   "source": [
    "type(ords)"
   ]
  },
  {
   "cell_type": "code",
   "execution_count": 80,
   "metadata": {},
   "outputs": [
    {
     "ename": "TypeError",
     "evalue": "'NoneType' object is not callable",
     "output_type": "error",
     "traceback": [
      "\u001b[0;31m---------------------------------------------------------------------------\u001b[0m",
      "\u001b[0;31mTypeError\u001b[0m                                 Traceback (most recent call last)",
      "\u001b[0;32m<ipython-input-80-ac67d9524722>\u001b[0m in \u001b[0;36m<module>\u001b[0;34m\u001b[0m\n\u001b[0;32m----> 1\u001b[0;31m \u001b[0mords\u001b[0m\u001b[0;34m.\u001b[0m\u001b[0mgi_yieldfrom\u001b[0m\u001b[0;34m(\u001b[0m\u001b[0;34m)\u001b[0m\u001b[0;34m\u001b[0m\u001b[0;34m\u001b[0m\u001b[0m\n\u001b[0m",
      "\u001b[0;31mTypeError\u001b[0m: 'NoneType' object is not callable"
     ]
    }
   ],
   "source": [
    "ords.gi_yieldfrom()"
   ]
  },
  {
   "cell_type": "markdown",
   "metadata": {},
   "source": [
    "# initial venture:\n",
    "used API to buy \\$5 of BTC (after manually moving $10 USD from coinbase to coinbasepro). fees were $.03, so i have $4.97 of BTC in CBP now.\n",
    "this is... pretty damn neat, actually. i can just figure out the stop-order format, which the wrapper makes quite easy, and then write the bot.\n",
    "- tricky parts ahead\n",
    "- how to set up the .py file to constantly 'listen' for PPA input"
   ]
  },
  {
   "cell_type": "code",
   "execution_count": null,
   "metadata": {},
   "outputs": [],
   "source": []
  },
  {
   "cell_type": "code",
   "execution_count": null,
   "metadata": {},
   "outputs": [],
   "source": []
  },
  {
   "cell_type": "code",
   "execution_count": null,
   "metadata": {},
   "outputs": [],
   "source": []
  },
  {
   "cell_type": "code",
   "execution_count": null,
   "metadata": {},
   "outputs": [],
   "source": []
  }
 ],
 "metadata": {
  "kernelspec": {
   "display_name": "Python 3",
   "language": "python",
   "name": "python3"
  },
  "language_info": {
   "codemirror_mode": {
    "name": "ipython",
    "version": 3
   },
   "file_extension": ".py",
   "mimetype": "text/x-python",
   "name": "python",
   "nbconvert_exporter": "python",
   "pygments_lexer": "ipython3",
   "version": "3.7.4"
  },
  "toc": {
   "base_numbering": 1,
   "nav_menu": {},
   "number_sections": true,
   "sideBar": false,
   "skip_h1_title": false,
   "title_cell": "Table of Contents",
   "title_sidebar": "Contents",
   "toc_cell": true,
   "toc_position": {
    "height": "47.429px",
    "left": "1584.47px",
    "top": "53.4233px",
    "width": "160.98px"
   },
   "toc_section_display": false,
   "toc_window_display": true
  }
 },
 "nbformat": 4,
 "nbformat_minor": 2
}
